{
  "nbformat": 4,
  "nbformat_minor": 0,
  "metadata": {
    "colab": {
      "provenance": [],
      "authorship_tag": "ABX9TyOITwAsljeq7jFR6Veo9aiy",
      "include_colab_link": true
    },
    "kernelspec": {
      "name": "python3",
      "display_name": "Python 3"
    },
    "language_info": {
      "name": "python"
    }
  },
  "cells": [
    {
      "cell_type": "markdown",
      "metadata": {
        "id": "view-in-github",
        "colab_type": "text"
      },
      "source": [
        "<a href=\"https://colab.research.google.com/github/ShaifaliKhulbe/Project_1/blob/main/Graphs.ipynb\" target=\"_parent\"><img src=\"https://colab.research.google.com/assets/colab-badge.svg\" alt=\"Open In Colab\"/></a>"
      ]
    },
    {
      "cell_type": "markdown",
      "source": [
        "# **Import Libraries**"
      ],
      "metadata": {
        "id": "Vy4DBIJ4GxGz"
      }
    },
    {
      "cell_type": "code",
      "source": [
        "import re\n",
        "import nltk\n",
        "from nltk.tokenize import word_tokenize\n",
        "from nltk.tag import pos_tag\n",
        "import pandas as pd\n",
        "from cleantext import clean\n",
        "import graphviz\n",
        "import networkx as nx\n",
        "import matplotlib.pyplot as plt\n",
        "from sklearn.cluster import KMeans\n",
        "import numpy as np"
      ],
      "metadata": {
        "id": "pT-z1y0TLUX5"
      },
      "execution_count": 43,
      "outputs": []
    },
    {
      "cell_type": "code",
      "source": [
        "!pip install osmnx"
      ],
      "metadata": {
        "colab": {
          "base_uri": "https://localhost:8080/"
        },
        "id": "lb-oEUHGJk2V",
        "outputId": "eac8d3fb-2009-49ec-f4e5-5d025bee1c41"
      },
      "execution_count": 134,
      "outputs": [
        {
          "output_type": "stream",
          "name": "stdout",
          "text": [
            "Looking in indexes: https://pypi.org/simple, https://us-python.pkg.dev/colab-wheels/public/simple/\n",
            "Collecting osmnx\n",
            "  Downloading osmnx-1.2.2-py2.py3-none-any.whl (92 kB)\n",
            "\u001b[2K     \u001b[90m━━━━━━━━━━━━━━━━━━━━━━━━━━━━━━━━━━━━━━━━\u001b[0m \u001b[32m92.5/92.5 KB\u001b[0m \u001b[31m8.6 MB/s\u001b[0m eta \u001b[36m0:00:00\u001b[0m\n",
            "\u001b[?25hCollecting Shapely<2.0,>=1.8\n",
            "  Downloading Shapely-1.8.5.post1-cp38-cp38-manylinux_2_12_x86_64.manylinux2010_x86_64.whl (2.1 MB)\n",
            "\u001b[2K     \u001b[90m━━━━━━━━━━━━━━━━━━━━━━━━━━━━━━━━━━━━━━━━\u001b[0m \u001b[32m2.1/2.1 MB\u001b[0m \u001b[31m58.5 MB/s\u001b[0m eta \u001b[36m0:00:00\u001b[0m\n",
            "\u001b[?25hCollecting pyproj>=3.3\n",
            "  Downloading pyproj-3.4.1-cp38-cp38-manylinux_2_17_x86_64.manylinux2014_x86_64.whl (7.8 MB)\n",
            "\u001b[2K     \u001b[90m━━━━━━━━━━━━━━━━━━━━━━━━━━━━━━━━━━━━━━━━\u001b[0m \u001b[32m7.8/7.8 MB\u001b[0m \u001b[31m61.0 MB/s\u001b[0m eta \u001b[36m0:00:00\u001b[0m\n",
            "\u001b[?25hCollecting Rtree>=1.0\n",
            "  Downloading Rtree-1.0.1-cp38-cp38-manylinux_2_17_x86_64.manylinux2014_x86_64.whl (1.0 MB)\n",
            "\u001b[2K     \u001b[90m━━━━━━━━━━━━━━━━━━━━━━━━━━━━━━━━━━━━━━━━\u001b[0m \u001b[32m1.0/1.0 MB\u001b[0m \u001b[31m67.9 MB/s\u001b[0m eta \u001b[36m0:00:00\u001b[0m\n",
            "\u001b[?25hCollecting requests>=2.28\n",
            "  Downloading requests-2.28.2-py3-none-any.whl (62 kB)\n",
            "\u001b[2K     \u001b[90m━━━━━━━━━━━━━━━━━━━━━━━━━━━━━━━━━━━━━━━━\u001b[0m \u001b[32m62.8/62.8 KB\u001b[0m \u001b[31m6.8 MB/s\u001b[0m eta \u001b[36m0:00:00\u001b[0m\n",
            "\u001b[?25hRequirement already satisfied: networkx>=2.8 in /usr/local/lib/python3.8/dist-packages (from osmnx) (3.0)\n",
            "Collecting matplotlib>=3.5\n",
            "  Downloading matplotlib-3.6.3-cp38-cp38-manylinux_2_12_x86_64.manylinux2010_x86_64.whl (9.4 MB)\n",
            "\u001b[2K     \u001b[90m━━━━━━━━━━━━━━━━━━━━━━━━━━━━━━━━━━━━━━━━\u001b[0m \u001b[32m9.4/9.4 MB\u001b[0m \u001b[31m96.3 MB/s\u001b[0m eta \u001b[36m0:00:00\u001b[0m\n",
            "\u001b[?25hCollecting geopandas>=0.11\n",
            "  Downloading geopandas-0.12.2-py3-none-any.whl (1.1 MB)\n",
            "\u001b[2K     \u001b[90m━━━━━━━━━━━━━━━━━━━━━━━━━━━━━━━━━━━━━━━━\u001b[0m \u001b[32m1.1/1.1 MB\u001b[0m \u001b[31m70.3 MB/s\u001b[0m eta \u001b[36m0:00:00\u001b[0m\n",
            "\u001b[?25hCollecting pandas>=1.4\n",
            "  Downloading pandas-1.5.3-cp38-cp38-manylinux_2_17_x86_64.manylinux2014_x86_64.whl (12.2 MB)\n",
            "\u001b[2K     \u001b[90m━━━━━━━━━━━━━━━━━━━━━━━━━━━━━━━━━━━━━━━━\u001b[0m \u001b[32m12.2/12.2 MB\u001b[0m \u001b[31m72.2 MB/s\u001b[0m eta \u001b[36m0:00:00\u001b[0m\n",
            "\u001b[?25hCollecting numpy>=1.22\n",
            "  Downloading numpy-1.24.2-cp38-cp38-manylinux_2_17_x86_64.manylinux2014_x86_64.whl (17.3 MB)\n",
            "\u001b[2K     \u001b[90m━━━━━━━━━━━━━━━━━━━━━━━━━━━━━━━━━━━━━━━━\u001b[0m \u001b[32m17.3/17.3 MB\u001b[0m \u001b[31m52.4 MB/s\u001b[0m eta \u001b[36m0:00:00\u001b[0m\n",
            "\u001b[?25hRequirement already satisfied: packaging in /usr/local/lib/python3.8/dist-packages (from geopandas>=0.11->osmnx) (23.0)\n",
            "Collecting fiona>=1.8\n",
            "  Downloading Fiona-1.9.0-cp38-cp38-manylinux_2_17_x86_64.manylinux2014_x86_64.whl (16.9 MB)\n",
            "\u001b[2K     \u001b[90m━━━━━━━━━━━━━━━━━━━━━━━━━━━━━━━━━━━━━━━━\u001b[0m \u001b[32m16.9/16.9 MB\u001b[0m \u001b[31m55.0 MB/s\u001b[0m eta \u001b[36m0:00:00\u001b[0m\n",
            "\u001b[?25hCollecting fonttools>=4.22.0\n",
            "  Downloading fonttools-4.38.0-py3-none-any.whl (965 kB)\n",
            "\u001b[2K     \u001b[90m━━━━━━━━━━━━━━━━━━━━━━━━━━━━━━━━━━━━━━━\u001b[0m \u001b[32m965.4/965.4 KB\u001b[0m \u001b[31m4.2 MB/s\u001b[0m eta \u001b[36m0:00:00\u001b[0m\n",
            "\u001b[?25hRequirement already satisfied: kiwisolver>=1.0.1 in /usr/local/lib/python3.8/dist-packages (from matplotlib>=3.5->osmnx) (1.4.4)\n",
            "Collecting contourpy>=1.0.1\n",
            "  Downloading contourpy-1.0.7-cp38-cp38-manylinux_2_17_x86_64.manylinux2014_x86_64.whl (300 kB)\n",
            "\u001b[2K     \u001b[90m━━━━━━━━━━━━━━━━━━━━━━━━━━━━━━━━━━━━━━\u001b[0m \u001b[32m300.0/300.0 KB\u001b[0m \u001b[31m25.3 MB/s\u001b[0m eta \u001b[36m0:00:00\u001b[0m\n",
            "\u001b[?25hRequirement already satisfied: pyparsing>=2.2.1 in /usr/local/lib/python3.8/dist-packages (from matplotlib>=3.5->osmnx) (3.0.9)\n",
            "Requirement already satisfied: pillow>=6.2.0 in /usr/local/lib/python3.8/dist-packages (from matplotlib>=3.5->osmnx) (7.1.2)\n",
            "Requirement already satisfied: python-dateutil>=2.7 in /usr/local/lib/python3.8/dist-packages (from matplotlib>=3.5->osmnx) (2.8.2)\n",
            "Requirement already satisfied: cycler>=0.10 in /usr/local/lib/python3.8/dist-packages (from matplotlib>=3.5->osmnx) (0.11.0)\n",
            "Requirement already satisfied: pytz>=2020.1 in /usr/local/lib/python3.8/dist-packages (from pandas>=1.4->osmnx) (2022.7.1)\n",
            "Requirement already satisfied: certifi in /usr/local/lib/python3.8/dist-packages (from pyproj>=3.3->osmnx) (2022.12.7)\n",
            "Requirement already satisfied: urllib3<1.27,>=1.21.1 in /usr/local/lib/python3.8/dist-packages (from requests>=2.28->osmnx) (1.24.3)\n",
            "Requirement already satisfied: idna<4,>=2.5 in /usr/local/lib/python3.8/dist-packages (from requests>=2.28->osmnx) (2.10)\n",
            "Requirement already satisfied: charset-normalizer<4,>=2 in /usr/local/lib/python3.8/dist-packages (from requests>=2.28->osmnx) (2.1.1)\n",
            "Collecting click~=8.0\n",
            "  Downloading click-8.1.3-py3-none-any.whl (96 kB)\n",
            "\u001b[2K     \u001b[90m━━━━━━━━━━━━━━━━━━━━━━━━━━━━━━━━━━━━━━━━\u001b[0m \u001b[32m96.6/96.6 KB\u001b[0m \u001b[31m11.1 MB/s\u001b[0m eta \u001b[36m0:00:00\u001b[0m\n",
            "\u001b[?25hCollecting click-plugins>=1.0\n",
            "  Downloading click_plugins-1.1.1-py2.py3-none-any.whl (7.5 kB)\n",
            "Collecting munch>=2.3.2\n",
            "  Downloading munch-2.5.0-py2.py3-none-any.whl (10 kB)\n",
            "Requirement already satisfied: attrs>=19.2.0 in /usr/local/lib/python3.8/dist-packages (from fiona>=1.8->geopandas>=0.11->osmnx) (22.2.0)\n",
            "Collecting cligj>=0.5\n",
            "  Downloading cligj-0.7.2-py3-none-any.whl (7.1 kB)\n",
            "Requirement already satisfied: six>=1.5 in /usr/local/lib/python3.8/dist-packages (from python-dateutil>=2.7->matplotlib>=3.5->osmnx) (1.15.0)\n",
            "Installing collected packages: Shapely, Rtree, requests, pyproj, numpy, munch, fonttools, click, pandas, contourpy, cligj, click-plugins, matplotlib, fiona, geopandas, osmnx\n",
            "  Attempting uninstall: Shapely\n",
            "    Found existing installation: shapely 2.0.1\n",
            "    Uninstalling shapely-2.0.1:\n",
            "      Successfully uninstalled shapely-2.0.1\n",
            "  Attempting uninstall: requests\n",
            "    Found existing installation: requests 2.25.1\n",
            "    Uninstalling requests-2.25.1:\n",
            "      Successfully uninstalled requests-2.25.1\n",
            "  Attempting uninstall: numpy\n",
            "    Found existing installation: numpy 1.21.6\n",
            "    Uninstalling numpy-1.21.6:\n",
            "      Successfully uninstalled numpy-1.21.6\n",
            "  Attempting uninstall: click\n",
            "    Found existing installation: click 7.1.2\n",
            "    Uninstalling click-7.1.2:\n",
            "      Successfully uninstalled click-7.1.2\n",
            "  Attempting uninstall: pandas\n",
            "    Found existing installation: pandas 1.3.5\n",
            "    Uninstalling pandas-1.3.5:\n",
            "      Successfully uninstalled pandas-1.3.5\n",
            "  Attempting uninstall: matplotlib\n",
            "    Found existing installation: matplotlib 3.2.2\n",
            "    Uninstalling matplotlib-3.2.2:\n",
            "      Successfully uninstalled matplotlib-3.2.2\n",
            "\u001b[31mERROR: pip's dependency resolver does not currently take into account all the packages that are installed. This behaviour is the source of the following dependency conflicts.\n",
            "scipy 1.7.3 requires numpy<1.23.0,>=1.16.5, but you have numpy 1.24.2 which is incompatible.\n",
            "numba 0.56.4 requires numpy<1.24,>=1.18, but you have numpy 1.24.2 which is incompatible.\n",
            "flask 1.1.4 requires click<8.0,>=5.1, but you have click 8.1.3 which is incompatible.\u001b[0m\u001b[31m\n",
            "\u001b[0mSuccessfully installed Rtree-1.0.1 Shapely-1.8.5.post1 click-8.1.3 click-plugins-1.1.1 cligj-0.7.2 contourpy-1.0.7 fiona-1.9.0 fonttools-4.38.0 geopandas-0.12.2 matplotlib-3.6.3 munch-2.5.0 numpy-1.24.2 osmnx-1.2.2 pandas-1.5.3 pyproj-3.4.1 requests-2.28.2\n"
          ]
        }
      ]
    },
    {
      "cell_type": "code",
      "source": [
        "import osmnx as ox"
      ],
      "metadata": {
        "id": "Njmp-np_JjBt"
      },
      "execution_count": 135,
      "outputs": []
    },
    {
      "cell_type": "code",
      "source": [
        "from gensim.models import Word2Vec"
      ],
      "metadata": {
        "id": "7UGI1xcQxR3V"
      },
      "execution_count": 38,
      "outputs": []
    },
    {
      "cell_type": "code",
      "source": [
        "!pip install unicode"
      ],
      "metadata": {
        "colab": {
          "base_uri": "https://localhost:8080/"
        },
        "id": "56k4sod7qnNW",
        "outputId": "9e897730-7bd3-4997-b6fb-44c21f696700"
      },
      "execution_count": 2,
      "outputs": [
        {
          "output_type": "stream",
          "name": "stdout",
          "text": [
            "Looking in indexes: https://pypi.org/simple, https://us-python.pkg.dev/colab-wheels/public/simple/\n",
            "Collecting unicode\n",
            "  Downloading unicode-2.9-py2.py3-none-any.whl (14 kB)\n",
            "Installing collected packages: unicode\n",
            "Successfully installed unicode-2.9\n"
          ]
        }
      ]
    },
    {
      "cell_type": "code",
      "source": [
        "!pip install clean-text"
      ],
      "metadata": {
        "colab": {
          "base_uri": "https://localhost:8080/"
        },
        "id": "iDT1gCPNbcn6",
        "outputId": "2431afcf-bfd9-486b-9baa-bc4385920ba1"
      },
      "execution_count": 3,
      "outputs": [
        {
          "output_type": "stream",
          "name": "stdout",
          "text": [
            "Looking in indexes: https://pypi.org/simple, https://us-python.pkg.dev/colab-wheels/public/simple/\n",
            "Requirement already satisfied: clean-text in /usr/local/lib/python3.8/dist-packages (0.6.0)\n",
            "Requirement already satisfied: emoji<2.0.0,>=1.0.0 in /usr/local/lib/python3.8/dist-packages (from clean-text) (1.7.0)\n",
            "Requirement already satisfied: ftfy<7.0,>=6.0 in /usr/local/lib/python3.8/dist-packages (from clean-text) (6.1.1)\n",
            "Requirement already satisfied: wcwidth>=0.2.5 in /usr/local/lib/python3.8/dist-packages (from ftfy<7.0,>=6.0->clean-text) (0.2.6)\n"
          ]
        }
      ]
    },
    {
      "cell_type": "code",
      "source": [
        "!apt install libgraphviz-dev\n",
        "!pip install pygraphviz"
      ],
      "metadata": {
        "colab": {
          "base_uri": "https://localhost:8080/"
        },
        "id": "kDywq94QHFM2",
        "outputId": "12b29148-1fdc-4cb5-f26e-3b76dca6d7c5"
      },
      "execution_count": 15,
      "outputs": [
        {
          "output_type": "stream",
          "name": "stdout",
          "text": [
            "Reading package lists... Done\n",
            "Building dependency tree       \n",
            "Reading state information... Done\n",
            "The following package was automatically installed and is no longer required:\n",
            "  libnvidia-common-510\n",
            "Use 'apt autoremove' to remove it.\n",
            "The following additional packages will be installed:\n",
            "  libgail-common libgail18 libgtk2.0-0 libgtk2.0-bin libgtk2.0-common\n",
            "  libgvc6-plugins-gtk libxdot4\n",
            "Suggested packages:\n",
            "  gvfs\n",
            "The following NEW packages will be installed:\n",
            "  libgail-common libgail18 libgraphviz-dev libgtk2.0-0 libgtk2.0-bin\n",
            "  libgtk2.0-common libgvc6-plugins-gtk libxdot4\n",
            "0 upgraded, 8 newly installed, 0 to remove and 28 not upgraded.\n",
            "Need to get 2,148 kB of archives.\n",
            "After this operation, 7,427 kB of additional disk space will be used.\n",
            "Get:1 http://archive.ubuntu.com/ubuntu focal/main amd64 libgtk2.0-common all 2.24.32-4ubuntu4 [126 kB]\n",
            "Get:2 http://archive.ubuntu.com/ubuntu focal/main amd64 libgtk2.0-0 amd64 2.24.32-4ubuntu4 [1,791 kB]\n",
            "Get:3 http://archive.ubuntu.com/ubuntu focal/main amd64 libgail18 amd64 2.24.32-4ubuntu4 [14.7 kB]\n",
            "Get:4 http://archive.ubuntu.com/ubuntu focal/main amd64 libgail-common amd64 2.24.32-4ubuntu4 [116 kB]\n",
            "Get:5 http://archive.ubuntu.com/ubuntu focal/universe amd64 libxdot4 amd64 2.42.2-3build2 [15.4 kB]\n",
            "Get:6 http://archive.ubuntu.com/ubuntu focal/universe amd64 libgvc6-plugins-gtk amd64 2.42.2-3build2 [20.6 kB]\n",
            "Get:7 http://archive.ubuntu.com/ubuntu focal/universe amd64 libgraphviz-dev amd64 2.42.2-3build2 [57.2 kB]\n",
            "Get:8 http://archive.ubuntu.com/ubuntu focal/main amd64 libgtk2.0-bin amd64 2.24.32-4ubuntu4 [7,728 B]\n",
            "Fetched 2,148 kB in 0s (13.6 MB/s)\n",
            "Selecting previously unselected package libgtk2.0-common.\n",
            "(Reading database ... 129501 files and directories currently installed.)\n",
            "Preparing to unpack .../0-libgtk2.0-common_2.24.32-4ubuntu4_all.deb ...\n",
            "Unpacking libgtk2.0-common (2.24.32-4ubuntu4) ...\n",
            "Selecting previously unselected package libgtk2.0-0:amd64.\n",
            "Preparing to unpack .../1-libgtk2.0-0_2.24.32-4ubuntu4_amd64.deb ...\n",
            "Unpacking libgtk2.0-0:amd64 (2.24.32-4ubuntu4) ...\n",
            "Selecting previously unselected package libgail18:amd64.\n",
            "Preparing to unpack .../2-libgail18_2.24.32-4ubuntu4_amd64.deb ...\n",
            "Unpacking libgail18:amd64 (2.24.32-4ubuntu4) ...\n",
            "Selecting previously unselected package libgail-common:amd64.\n",
            "Preparing to unpack .../3-libgail-common_2.24.32-4ubuntu4_amd64.deb ...\n",
            "Unpacking libgail-common:amd64 (2.24.32-4ubuntu4) ...\n",
            "Selecting previously unselected package libxdot4:amd64.\n",
            "Preparing to unpack .../4-libxdot4_2.42.2-3build2_amd64.deb ...\n",
            "Unpacking libxdot4:amd64 (2.42.2-3build2) ...\n",
            "Selecting previously unselected package libgvc6-plugins-gtk.\n",
            "Preparing to unpack .../5-libgvc6-plugins-gtk_2.42.2-3build2_amd64.deb ...\n",
            "Unpacking libgvc6-plugins-gtk (2.42.2-3build2) ...\n",
            "Selecting previously unselected package libgraphviz-dev:amd64.\n",
            "Preparing to unpack .../6-libgraphviz-dev_2.42.2-3build2_amd64.deb ...\n",
            "Unpacking libgraphviz-dev:amd64 (2.42.2-3build2) ...\n",
            "Selecting previously unselected package libgtk2.0-bin.\n",
            "Preparing to unpack .../7-libgtk2.0-bin_2.24.32-4ubuntu4_amd64.deb ...\n",
            "Unpacking libgtk2.0-bin (2.24.32-4ubuntu4) ...\n",
            "Setting up libxdot4:amd64 (2.42.2-3build2) ...\n",
            "Setting up libgtk2.0-common (2.24.32-4ubuntu4) ...\n",
            "Setting up libgtk2.0-0:amd64 (2.24.32-4ubuntu4) ...\n",
            "Setting up libgvc6-plugins-gtk (2.42.2-3build2) ...\n",
            "Setting up libgail18:amd64 (2.24.32-4ubuntu4) ...\n",
            "Setting up libgtk2.0-bin (2.24.32-4ubuntu4) ...\n",
            "Setting up libgail-common:amd64 (2.24.32-4ubuntu4) ...\n",
            "Setting up libgraphviz-dev:amd64 (2.42.2-3build2) ...\n",
            "Processing triggers for man-db (2.9.1-1) ...\n",
            "Processing triggers for libc-bin (2.31-0ubuntu9.9) ...\n",
            "Looking in indexes: https://pypi.org/simple, https://us-python.pkg.dev/colab-wheels/public/simple/\n",
            "Collecting pygraphviz\n",
            "  Downloading pygraphviz-1.10.zip (120 kB)\n",
            "\u001b[2K     \u001b[90m━━━━━━━━━━━━━━━━━━━━━━━━━━━━━━━━━━━━━━\u001b[0m \u001b[32m120.6/120.6 KB\u001b[0m \u001b[31m11.9 MB/s\u001b[0m eta \u001b[36m0:00:00\u001b[0m\n",
            "\u001b[?25h  Preparing metadata (setup.py) ... \u001b[?25l\u001b[?25hdone\n",
            "Building wheels for collected packages: pygraphviz\n",
            "  Building wheel for pygraphviz (setup.py) ... \u001b[?25l\u001b[?25hdone\n",
            "  Created wheel for pygraphviz: filename=pygraphviz-1.10-cp38-cp38-linux_x86_64.whl size=184575 sha256=ed4cc7c10b4936ee224a66580454ec61d95e317de4aebfead8660c83608f3f96\n",
            "  Stored in directory: /root/.cache/pip/wheels/ac/bd/46/118c2a336c6fd8d47026854302f8fad63bb7e431e52008ea06\n",
            "Successfully built pygraphviz\n",
            "Installing collected packages: pygraphviz\n",
            "Successfully installed pygraphviz-1.10\n"
          ]
        }
      ]
    },
    {
      "cell_type": "code",
      "source": [
        "nltk.download('averaged_perceptron_tagger')"
      ],
      "metadata": {
        "colab": {
          "base_uri": "https://localhost:8080/"
        },
        "id": "GYz9KixPZceX",
        "outputId": "b605e6d2-892a-4b6b-e022-a5f439c7a822"
      },
      "execution_count": 5,
      "outputs": [
        {
          "output_type": "stream",
          "name": "stderr",
          "text": [
            "[nltk_data] Downloading package averaged_perceptron_tagger to\n",
            "[nltk_data]     /root/nltk_data...\n",
            "[nltk_data]   Package averaged_perceptron_tagger is already up-to-\n",
            "[nltk_data]       date!\n"
          ]
        },
        {
          "output_type": "execute_result",
          "data": {
            "text/plain": [
              "True"
            ]
          },
          "metadata": {},
          "execution_count": 5
        }
      ]
    },
    {
      "cell_type": "code",
      "source": [
        "nltk.download('punkt')"
      ],
      "metadata": {
        "colab": {
          "base_uri": "https://localhost:8080/"
        },
        "id": "07obuMQMZUUJ",
        "outputId": "3a798da2-11b3-4e0a-cd89-b77f4e961b85"
      },
      "execution_count": 6,
      "outputs": [
        {
          "output_type": "stream",
          "name": "stderr",
          "text": [
            "[nltk_data] Downloading package punkt to /root/nltk_data...\n",
            "[nltk_data]   Package punkt is already up-to-date!\n"
          ]
        },
        {
          "output_type": "execute_result",
          "data": {
            "text/plain": [
              "True"
            ]
          },
          "metadata": {},
          "execution_count": 6
        }
      ]
    },
    {
      "cell_type": "markdown",
      "source": [
        "# **Convert file into DataFrame**"
      ],
      "metadata": {
        "id": "pceKrYViG50L"
      }
    },
    {
      "cell_type": "code",
      "source": [
        "df = pd.read_csv(\"/content/artificialintelligence.csv\")\n",
        "user_description = list(df[\"user_description\"])"
      ],
      "metadata": {
        "id": "bwLHR9kPHomM"
      },
      "execution_count": 193,
      "outputs": []
    },
    {
      "cell_type": "code",
      "source": [
        "df[\"total\"] = df[\"likes\"] + df[\"number_of_retweets\"]"
      ],
      "metadata": {
        "id": "owiNTsmu2ZHE"
      },
      "execution_count": 194,
      "outputs": []
    },
    {
      "cell_type": "code",
      "source": [
        "df"
      ],
      "metadata": {
        "colab": {
          "base_uri": "https://localhost:8080/",
          "height": 886
        },
        "id": "WL9E9Cln5OxK",
        "outputId": "11a58bf5-22da-4dd3-ad37-31e9b1fcdb97"
      },
      "execution_count": 195,
      "outputs": [
        {
          "output_type": "execute_result",
          "data": {
            "text/plain": [
              "      Unnamed: 0             tweet_id               user_name  \\\n",
              "0              0  1612759190023405568      NSA Name Generator   \n",
              "1              1  1612759013728595968       Mistral Solutions   \n",
              "2              2  1612758970938138624          The Tech Trend   \n",
              "3              3  1612758938386153477      NSA Name Generator   \n",
              "4              4  1612758901501427713  Mauricio Amaro L. 🇨🇱🇲🇽   \n",
              "...          ...                  ...                     ...   \n",
              "3094        3094  1612417446761168897      The Digital Agency   \n",
              "3095        3095  1612417438074773505      NSA Name Generator   \n",
              "3096        3096  1612417300933808130          लोखंडwala Buज़   \n",
              "3097        3097  1612416934779260929      NSA Name Generator   \n",
              "3098        3098  1612416758635450370           Henry cyber🖥🛰   \n",
              "\n",
              "                                       user_description  total_user_tweets  \\\n",
              "0     A new #NSA product name will be tweeted every ...              76981   \n",
              "1     Mistral is a technology design and integration...               3691   \n",
              "2     A Tech community for industry experts, connect...               9737   \n",
              "3     A new #NSA product name will be tweeted every ...              76981   \n",
              "4     #IT_Thinker #strategist  #speaker & #WineLover...              84816   \n",
              "...                                                 ...                ...   \n",
              "3094                                                NaN               2793   \n",
              "3095  A new #NSA product name will be tweeted every ...              77585   \n",
              "3096  We are a Hyper-Local Marketing Platform, from ...               7780   \n",
              "3097  A new #NSA product name will be tweeted every ...              77585   \n",
              "3098  GOD🥇Pro-Hacking Services. *Private Investigato...               2791   \n",
              "\n",
              "                     time                                              tweet  \\\n",
              "0     2023-01-10 10:32:09  🚴‍♂️ whispergenesis #nsa #nationalsecurityagen...   \n",
              "1     2023-01-10 10:31:27  An integrated, performance-oriented, Camera Vi...   \n",
              "2     2023-01-10 10:31:16  Examples of AI in Today’s World\\nRead More:- h...   \n",
              "3     2023-01-10 10:31:09  ⛵️ watermaster #nsa #nationalsecurityagency #p...   \n",
              "4     2023-01-10 10:31:00  Which Technologies Will Dominate In 2023 In Th...   \n",
              "...                   ...                                                ...   \n",
              "3094  2023-01-09 11:54:11  New PS5 games: upcoming PlayStation 5 release ...   \n",
              "3095  2023-01-09 11:54:09  🌼 sleepywaffle #nsa #nationalsecurityagency #p...   \n",
              "3096  2023-01-09 11:53:36  No! We can't trust them yet. But, in 2023 we’r...   \n",
              "3097  2023-01-09 11:52:09  ⚡️ soufflecalendar #nsa #nationalsecurityagenc...   \n",
              "3098  2023-01-09 11:51:27  C++ mostly used in \\nRn\\n#ArtificialIntelligen...   \n",
              "\n",
              "                            location  followers  following  \\\n",
              "0                 Inside your router         69        121   \n",
              "1        Domlur Extension, Bangalore       2194        690   \n",
              "2                          Worldwide       4234       4362   \n",
              "3                 Inside your router         69        121   \n",
              "4                             México      14233       6748   \n",
              "...                              ...        ...        ...   \n",
              "3094                    Dearborn, MI        792       2601   \n",
              "3095              Inside your router         69        121   \n",
              "3096  Lokhandwala Complex. Andheri W       1552       4620   \n",
              "3097              Inside your router         69        121   \n",
              "3098              Minnesota City, MN        917         13   \n",
              "\n",
              "                                               hashtags  likes  \\\n",
              "0     ['nsa', 'nationalsecurityagency', 'parody', 'a...      0   \n",
              "1                                   ['mmWave', 'radar']      0   \n",
              "2                          ['AIcourse', 'AItechnology']      0   \n",
              "3     ['nsa', 'nationalsecurityagency', 'parody', 'a...      0   \n",
              "4                   ['Robot', 'Robotics', 'Automation']      0   \n",
              "...                                                 ...    ...   \n",
              "3094           ['ArtificialIntelligence', 'IoT', 'IoE']      0   \n",
              "3095  ['nsa', 'nationalsecurityagency', 'parody', 'a...      0   \n",
              "3096                                                 []      1   \n",
              "3097  ['nsa', 'nationalsecurityagency', 'parody', 'a...      0   \n",
              "3098  ['ArtificialIntelligence', 'AI', 'ML', 'DataSc...      2   \n",
              "\n",
              "      number_of_retweets  total  \n",
              "0                      0      0  \n",
              "1                      0      0  \n",
              "2                      0      0  \n",
              "3                      0      0  \n",
              "4                      0      0  \n",
              "...                  ...    ...  \n",
              "3094                   0      0  \n",
              "3095                   0      0  \n",
              "3096                   0      1  \n",
              "3097                   0      0  \n",
              "3098                   3      5  \n",
              "\n",
              "[3099 rows x 14 columns]"
            ],
            "text/html": [
              "\n",
              "  <div id=\"df-a5251665-b2b4-4b59-a820-58c7b9bd7fac\">\n",
              "    <div class=\"colab-df-container\">\n",
              "      <div>\n",
              "<style scoped>\n",
              "    .dataframe tbody tr th:only-of-type {\n",
              "        vertical-align: middle;\n",
              "    }\n",
              "\n",
              "    .dataframe tbody tr th {\n",
              "        vertical-align: top;\n",
              "    }\n",
              "\n",
              "    .dataframe thead th {\n",
              "        text-align: right;\n",
              "    }\n",
              "</style>\n",
              "<table border=\"1\" class=\"dataframe\">\n",
              "  <thead>\n",
              "    <tr style=\"text-align: right;\">\n",
              "      <th></th>\n",
              "      <th>Unnamed: 0</th>\n",
              "      <th>tweet_id</th>\n",
              "      <th>user_name</th>\n",
              "      <th>user_description</th>\n",
              "      <th>total_user_tweets</th>\n",
              "      <th>time</th>\n",
              "      <th>tweet</th>\n",
              "      <th>location</th>\n",
              "      <th>followers</th>\n",
              "      <th>following</th>\n",
              "      <th>hashtags</th>\n",
              "      <th>likes</th>\n",
              "      <th>number_of_retweets</th>\n",
              "      <th>total</th>\n",
              "    </tr>\n",
              "  </thead>\n",
              "  <tbody>\n",
              "    <tr>\n",
              "      <th>0</th>\n",
              "      <td>0</td>\n",
              "      <td>1612759190023405568</td>\n",
              "      <td>NSA Name Generator</td>\n",
              "      <td>A new #NSA product name will be tweeted every ...</td>\n",
              "      <td>76981</td>\n",
              "      <td>2023-01-10 10:32:09</td>\n",
              "      <td>🚴‍♂️ whispergenesis #nsa #nationalsecurityagen...</td>\n",
              "      <td>Inside your router</td>\n",
              "      <td>69</td>\n",
              "      <td>121</td>\n",
              "      <td>['nsa', 'nationalsecurityagency', 'parody', 'a...</td>\n",
              "      <td>0</td>\n",
              "      <td>0</td>\n",
              "      <td>0</td>\n",
              "    </tr>\n",
              "    <tr>\n",
              "      <th>1</th>\n",
              "      <td>1</td>\n",
              "      <td>1612759013728595968</td>\n",
              "      <td>Mistral Solutions</td>\n",
              "      <td>Mistral is a technology design and integration...</td>\n",
              "      <td>3691</td>\n",
              "      <td>2023-01-10 10:31:27</td>\n",
              "      <td>An integrated, performance-oriented, Camera Vi...</td>\n",
              "      <td>Domlur Extension, Bangalore</td>\n",
              "      <td>2194</td>\n",
              "      <td>690</td>\n",
              "      <td>['mmWave', 'radar']</td>\n",
              "      <td>0</td>\n",
              "      <td>0</td>\n",
              "      <td>0</td>\n",
              "    </tr>\n",
              "    <tr>\n",
              "      <th>2</th>\n",
              "      <td>2</td>\n",
              "      <td>1612758970938138624</td>\n",
              "      <td>The Tech Trend</td>\n",
              "      <td>A Tech community for industry experts, connect...</td>\n",
              "      <td>9737</td>\n",
              "      <td>2023-01-10 10:31:16</td>\n",
              "      <td>Examples of AI in Today’s World\\nRead More:- h...</td>\n",
              "      <td>Worldwide</td>\n",
              "      <td>4234</td>\n",
              "      <td>4362</td>\n",
              "      <td>['AIcourse', 'AItechnology']</td>\n",
              "      <td>0</td>\n",
              "      <td>0</td>\n",
              "      <td>0</td>\n",
              "    </tr>\n",
              "    <tr>\n",
              "      <th>3</th>\n",
              "      <td>3</td>\n",
              "      <td>1612758938386153477</td>\n",
              "      <td>NSA Name Generator</td>\n",
              "      <td>A new #NSA product name will be tweeted every ...</td>\n",
              "      <td>76981</td>\n",
              "      <td>2023-01-10 10:31:09</td>\n",
              "      <td>⛵️ watermaster #nsa #nationalsecurityagency #p...</td>\n",
              "      <td>Inside your router</td>\n",
              "      <td>69</td>\n",
              "      <td>121</td>\n",
              "      <td>['nsa', 'nationalsecurityagency', 'parody', 'a...</td>\n",
              "      <td>0</td>\n",
              "      <td>0</td>\n",
              "      <td>0</td>\n",
              "    </tr>\n",
              "    <tr>\n",
              "      <th>4</th>\n",
              "      <td>4</td>\n",
              "      <td>1612758901501427713</td>\n",
              "      <td>Mauricio Amaro L. 🇨🇱🇲🇽</td>\n",
              "      <td>#IT_Thinker #strategist  #speaker &amp; #WineLover...</td>\n",
              "      <td>84816</td>\n",
              "      <td>2023-01-10 10:31:00</td>\n",
              "      <td>Which Technologies Will Dominate In 2023 In Th...</td>\n",
              "      <td>México</td>\n",
              "      <td>14233</td>\n",
              "      <td>6748</td>\n",
              "      <td>['Robot', 'Robotics', 'Automation']</td>\n",
              "      <td>0</td>\n",
              "      <td>0</td>\n",
              "      <td>0</td>\n",
              "    </tr>\n",
              "    <tr>\n",
              "      <th>...</th>\n",
              "      <td>...</td>\n",
              "      <td>...</td>\n",
              "      <td>...</td>\n",
              "      <td>...</td>\n",
              "      <td>...</td>\n",
              "      <td>...</td>\n",
              "      <td>...</td>\n",
              "      <td>...</td>\n",
              "      <td>...</td>\n",
              "      <td>...</td>\n",
              "      <td>...</td>\n",
              "      <td>...</td>\n",
              "      <td>...</td>\n",
              "      <td>...</td>\n",
              "    </tr>\n",
              "    <tr>\n",
              "      <th>3094</th>\n",
              "      <td>3094</td>\n",
              "      <td>1612417446761168897</td>\n",
              "      <td>The Digital Agency</td>\n",
              "      <td>NaN</td>\n",
              "      <td>2793</td>\n",
              "      <td>2023-01-09 11:54:11</td>\n",
              "      <td>New PS5 games: upcoming PlayStation 5 release ...</td>\n",
              "      <td>Dearborn, MI</td>\n",
              "      <td>792</td>\n",
              "      <td>2601</td>\n",
              "      <td>['ArtificialIntelligence', 'IoT', 'IoE']</td>\n",
              "      <td>0</td>\n",
              "      <td>0</td>\n",
              "      <td>0</td>\n",
              "    </tr>\n",
              "    <tr>\n",
              "      <th>3095</th>\n",
              "      <td>3095</td>\n",
              "      <td>1612417438074773505</td>\n",
              "      <td>NSA Name Generator</td>\n",
              "      <td>A new #NSA product name will be tweeted every ...</td>\n",
              "      <td>77585</td>\n",
              "      <td>2023-01-09 11:54:09</td>\n",
              "      <td>🌼 sleepywaffle #nsa #nationalsecurityagency #p...</td>\n",
              "      <td>Inside your router</td>\n",
              "      <td>69</td>\n",
              "      <td>121</td>\n",
              "      <td>['nsa', 'nationalsecurityagency', 'parody', 'a...</td>\n",
              "      <td>0</td>\n",
              "      <td>0</td>\n",
              "      <td>0</td>\n",
              "    </tr>\n",
              "    <tr>\n",
              "      <th>3096</th>\n",
              "      <td>3096</td>\n",
              "      <td>1612417300933808130</td>\n",
              "      <td>लोखंडwala Buज़</td>\n",
              "      <td>We are a Hyper-Local Marketing Platform, from ...</td>\n",
              "      <td>7780</td>\n",
              "      <td>2023-01-09 11:53:36</td>\n",
              "      <td>No! We can't trust them yet. But, in 2023 we’r...</td>\n",
              "      <td>Lokhandwala Complex. Andheri W</td>\n",
              "      <td>1552</td>\n",
              "      <td>4620</td>\n",
              "      <td>[]</td>\n",
              "      <td>1</td>\n",
              "      <td>0</td>\n",
              "      <td>1</td>\n",
              "    </tr>\n",
              "    <tr>\n",
              "      <th>3097</th>\n",
              "      <td>3097</td>\n",
              "      <td>1612416934779260929</td>\n",
              "      <td>NSA Name Generator</td>\n",
              "      <td>A new #NSA product name will be tweeted every ...</td>\n",
              "      <td>77585</td>\n",
              "      <td>2023-01-09 11:52:09</td>\n",
              "      <td>⚡️ soufflecalendar #nsa #nationalsecurityagenc...</td>\n",
              "      <td>Inside your router</td>\n",
              "      <td>69</td>\n",
              "      <td>121</td>\n",
              "      <td>['nsa', 'nationalsecurityagency', 'parody', 'a...</td>\n",
              "      <td>0</td>\n",
              "      <td>0</td>\n",
              "      <td>0</td>\n",
              "    </tr>\n",
              "    <tr>\n",
              "      <th>3098</th>\n",
              "      <td>3098</td>\n",
              "      <td>1612416758635450370</td>\n",
              "      <td>Henry cyber🖥🛰</td>\n",
              "      <td>GOD🥇Pro-Hacking Services. *Private Investigato...</td>\n",
              "      <td>2791</td>\n",
              "      <td>2023-01-09 11:51:27</td>\n",
              "      <td>C++ mostly used in \\nRn\\n#ArtificialIntelligen...</td>\n",
              "      <td>Minnesota City, MN</td>\n",
              "      <td>917</td>\n",
              "      <td>13</td>\n",
              "      <td>['ArtificialIntelligence', 'AI', 'ML', 'DataSc...</td>\n",
              "      <td>2</td>\n",
              "      <td>3</td>\n",
              "      <td>5</td>\n",
              "    </tr>\n",
              "  </tbody>\n",
              "</table>\n",
              "<p>3099 rows × 14 columns</p>\n",
              "</div>\n",
              "      <button class=\"colab-df-convert\" onclick=\"convertToInteractive('df-a5251665-b2b4-4b59-a820-58c7b9bd7fac')\"\n",
              "              title=\"Convert this dataframe to an interactive table.\"\n",
              "              style=\"display:none;\">\n",
              "        \n",
              "  <svg xmlns=\"http://www.w3.org/2000/svg\" height=\"24px\"viewBox=\"0 0 24 24\"\n",
              "       width=\"24px\">\n",
              "    <path d=\"M0 0h24v24H0V0z\" fill=\"none\"/>\n",
              "    <path d=\"M18.56 5.44l.94 2.06.94-2.06 2.06-.94-2.06-.94-.94-2.06-.94 2.06-2.06.94zm-11 1L8.5 8.5l.94-2.06 2.06-.94-2.06-.94L8.5 2.5l-.94 2.06-2.06.94zm10 10l.94 2.06.94-2.06 2.06-.94-2.06-.94-.94-2.06-.94 2.06-2.06.94z\"/><path d=\"M17.41 7.96l-1.37-1.37c-.4-.4-.92-.59-1.43-.59-.52 0-1.04.2-1.43.59L10.3 9.45l-7.72 7.72c-.78.78-.78 2.05 0 2.83L4 21.41c.39.39.9.59 1.41.59.51 0 1.02-.2 1.41-.59l7.78-7.78 2.81-2.81c.8-.78.8-2.07 0-2.86zM5.41 20L4 18.59l7.72-7.72 1.47 1.35L5.41 20z\"/>\n",
              "  </svg>\n",
              "      </button>\n",
              "      \n",
              "  <style>\n",
              "    .colab-df-container {\n",
              "      display:flex;\n",
              "      flex-wrap:wrap;\n",
              "      gap: 12px;\n",
              "    }\n",
              "\n",
              "    .colab-df-convert {\n",
              "      background-color: #E8F0FE;\n",
              "      border: none;\n",
              "      border-radius: 50%;\n",
              "      cursor: pointer;\n",
              "      display: none;\n",
              "      fill: #1967D2;\n",
              "      height: 32px;\n",
              "      padding: 0 0 0 0;\n",
              "      width: 32px;\n",
              "    }\n",
              "\n",
              "    .colab-df-convert:hover {\n",
              "      background-color: #E2EBFA;\n",
              "      box-shadow: 0px 1px 2px rgba(60, 64, 67, 0.3), 0px 1px 3px 1px rgba(60, 64, 67, 0.15);\n",
              "      fill: #174EA6;\n",
              "    }\n",
              "\n",
              "    [theme=dark] .colab-df-convert {\n",
              "      background-color: #3B4455;\n",
              "      fill: #D2E3FC;\n",
              "    }\n",
              "\n",
              "    [theme=dark] .colab-df-convert:hover {\n",
              "      background-color: #434B5C;\n",
              "      box-shadow: 0px 1px 3px 1px rgba(0, 0, 0, 0.15);\n",
              "      filter: drop-shadow(0px 1px 2px rgba(0, 0, 0, 0.3));\n",
              "      fill: #FFFFFF;\n",
              "    }\n",
              "  </style>\n",
              "\n",
              "      <script>\n",
              "        const buttonEl =\n",
              "          document.querySelector('#df-a5251665-b2b4-4b59-a820-58c7b9bd7fac button.colab-df-convert');\n",
              "        buttonEl.style.display =\n",
              "          google.colab.kernel.accessAllowed ? 'block' : 'none';\n",
              "\n",
              "        async function convertToInteractive(key) {\n",
              "          const element = document.querySelector('#df-a5251665-b2b4-4b59-a820-58c7b9bd7fac');\n",
              "          const dataTable =\n",
              "            await google.colab.kernel.invokeFunction('convertToInteractive',\n",
              "                                                     [key], {});\n",
              "          if (!dataTable) return;\n",
              "\n",
              "          const docLinkHtml = 'Like what you see? Visit the ' +\n",
              "            '<a target=\"_blank\" href=https://colab.research.google.com/notebooks/data_table.ipynb>data table notebook</a>'\n",
              "            + ' to learn more about interactive tables.';\n",
              "          element.innerHTML = '';\n",
              "          dataTable['output_type'] = 'display_data';\n",
              "          await google.colab.output.renderOutput(dataTable, element);\n",
              "          const docLink = document.createElement('div');\n",
              "          docLink.innerHTML = docLinkHtml;\n",
              "          element.appendChild(docLink);\n",
              "        }\n",
              "      </script>\n",
              "    </div>\n",
              "  </div>\n",
              "  "
            ]
          },
          "metadata": {},
          "execution_count": 195
        }
      ]
    },
    {
      "cell_type": "markdown",
      "source": [
        "# **Clean User Description**"
      ],
      "metadata": {
        "id": "ItVS1SutdC_d"
      }
    },
    {
      "cell_type": "code",
      "source": [
        "#cleaning the descriptions\n",
        "clean_description = []\n",
        "\n",
        "for description in user_description: \n",
        "  temp = description\n",
        "  temp = re.sub(\"@[A-Za-z0-9_]+\",\"\", str(temp)) #remove hashtags\n",
        "  temp = re.sub(\"#[A-Za-z0-9_]+\",\"\", temp) #remove mentions\n",
        "  temp = re.sub(r\"http[s]?://(\\w+(-)?)+\\.\\S*[^.\\s]\", \"\", temp)  #remove links \n",
        "  temp = re.sub(r\"http[s]?://(?:[a-zA-Z]|[0-9]|[$-_@.&+]|[!*\\(\\),]|(?:%[0-9a-fA-F][0-9a-fA-F]))+\", \"\", temp) #remove links \n",
        "  temp = re.sub(\"\\n\", '', temp) #remove newlines\n",
        "  temp = re.sub(\"\\n\\n\", '', temp) #remove double newlines\n",
        "  temp = clean(temp, no_emoji=True) #remove emojis\n",
        "  #print(temp)\n",
        "  clean_description.append(temp)"
      ],
      "metadata": {
        "id": "JMv0cB08dS7S"
      },
      "execution_count": 196,
      "outputs": []
    },
    {
      "cell_type": "code",
      "source": [
        "df[\"clean_user_description\"] =  clean_description"
      ],
      "metadata": {
        "id": "JJ6C8f-Sotsm"
      },
      "execution_count": 197,
      "outputs": []
    },
    {
      "cell_type": "markdown",
      "source": [
        "# **Sort DataFrame and find the user descriptions of the top 50 tweets**"
      ],
      "metadata": {
        "id": "2Sm0dzB87apw"
      }
    },
    {
      "cell_type": "code",
      "source": [
        "total = df.sort_values(by='total',ascending=False)\n",
        "top_50_tweets= total.iloc[:50, :]\n",
        "top_50_descriptions = top_50_tweets[\"clean_user_description\"].values.tolist()"
      ],
      "metadata": {
        "id": "2kAK7Kfx2v2c"
      },
      "execution_count": 198,
      "outputs": []
    },
    {
      "cell_type": "code",
      "source": [
        "top_50_descriptions"
      ],
      "metadata": {
        "colab": {
          "base_uri": "https://localhost:8080/"
        },
        "id": "P1xS26LZ89Mz",
        "outputId": "92bf7765-face-4a03-8ab9-a0b31be2841f"
      },
      "execution_count": 199,
      "outputs": [
        {
          "output_type": "execute_result",
          "data": {
            "text/plain": [
              "['starfetch is a switzerland-based fintech company that specializes in the research and development of artificial intelligence-based trading algorithms.',\n",
              " 'the first play to earn gaming analytics and prediction platform. analyse | predict | earn $upo chat: | news:',\n",
              " 'well ! nivvan here ! artist instagram :',\n",
              " 'is the best place for game developers, digital artists, animators, video game enthusiasts, cgi and vfx talents.',\n",
              " 'award-winning writer. short stories, novels, screenplays. penguin random house canada student award for fiction 2022 (top 3). words & photos all my fault.',\n",
              " 'data scientist. freelancer. global speaker. founder . top influencer. phd astrophysics',\n",
              " 'is the best place for game developers, digital artists, animators, video game enthusiasts, cgi and vfx talents.',\n",
              " 'helping data driven companies generate valuetop10influencer',\n",
              " \"we science. we're australia's national science agency. we solve the greatest challenges through innovative science and technology. rts not endorsements.\",\n",
              " 'plurale pluralfilosofie (phd), teologie, tecnologie: scienze giovani famiglie cibiphilosophies (phd), theologies, technologies: sciences youths families foods',\n",
              " 'researcher (unu-egov) | global masters in e-gov & public mgt | bs devcom',\n",
              " 'co-founder: / gadigal street artist',\n",
              " 'cross-industry global community of business leaders & experts unleashing the potentials of',\n",
              " 'a human making art with ai.',\n",
              " 'is a fork with l1 assets. secured by a decentralized web(3.0) of gpu miners, devs, artists, & builders. 1337 blind-mint: live!',\n",
              " 'helping data driven companies generate valuetop10influencer',\n",
              " 'helping data driven companies generate valuetop10influencer',\n",
              " 'artist/speaker/advisor teaching 3d/xr/ai ux/xr design manager host download my free 2023 beginner ai guide',\n",
              " ': taking the pulse of our planet from space.',\n",
              " 'ceo | digital transformation leader | innovation manager | thought leadership | professional influencer',\n",
              " 'helping data driven companies generate valuetop10influencer',\n",
              " 'expert practitioner and thought leader in agile, project and pmo management. award-winning author. speaker. featured by microsoft, yale & u.s. dept. of energy.',\n",
              " 'top voice in tech | best-selling author | keynote speaker | ai & automation expert | forbes tech council | 1 million+ followers',\n",
              " 'follow for daily dose of tech humor open for collaboration made with by get your dose on instagram too',\n",
              " \"we are the alan turing institute, the uk's national institute for data science and artificial intelligence.\",\n",
              " 'data scientist. freelancer. global speaker. founder . top influencer. phd astrophysics',\n",
              " 'helping data driven companies generate valuetop10influencer',\n",
              " 'ofrecer soluciones guiadas por datos es un reto. buscamos el uso inteligente de informacion para la accion colectiva.',\n",
              " 'data scientist. freelancer. global speaker. founder . top influencer. phd astrophysics',\n",
              " 'keep yourself up-to-date with online privacy and security by checking in with every day.',\n",
              " 'our future is bright enslove.eth ensvillage.eth enssummer.eth ensmania.eth',\n",
              " 'access innovator: . podcast:. !',\n",
              " 'entrepreneur | phd candidate | | |',\n",
              " \"president .com | health coverage & aca expert. brand development. | 3x alum mba candidate '24. influencer. montana grown.\",\n",
              " '',\n",
              " 'helping data driven companies generate valuetop10influencer',\n",
              " 'pa showcases the game-changing capabilities of computational design and artificial intelligence. over +1.5m audience on social media.',\n",
              " \"president .com | health coverage & aca expert. brand development. | 3x alum mba candidate '24. influencer. montana grown.\",\n",
              " 'providing healing and hope for people with arthritis, allergies, and autoimmune diseases.',\n",
              " 'tech influencer, contentcreator/industry expert w/550k social followers focused on enterprise cloud 5g ai telecom cx cyber',\n",
              " 'life is a . since 1991 at hakom we have a clear focus: time series management for the industry.',\n",
              " ', - . in with at',\n",
              " 'our team!',\n",
              " 'founder & ceo @ 15+ years in business intelligence & big data occasional speaker and amateur cyclist',\n",
              " 'helping data driven companies generate valuetop10influencer',\n",
              " '| no. 1 & | |',\n",
              " 'ic autonomous reasoning and learning (icarl) at . ai and reinforcement learning. lead by , & ..social',\n",
              " 'helping data driven companies generate valuetop10influencer',\n",
              " 'leading provider of enterprise application implementation services, specializing in an platinum partner.',\n",
              " 'nsf ai institute for research on trustworthy ai in weather, climate, and coastal oceanography (ai2es)']"
            ]
          },
          "metadata": {},
          "execution_count": 199
        }
      ]
    },
    {
      "cell_type": "markdown",
      "source": [
        "# **Preprocess User Description**\n",
        "## Extract words with JJ POS tags using NLTK"
      ],
      "metadata": {
        "id": "TGngNPJcdX22"
      }
    },
    {
      "cell_type": "code",
      "source": [
        "def preprocess_document(clean_description):\n",
        "  document = []\n",
        "  for sent in clean_description:   \n",
        "    tokens = []\n",
        "    sent = nltk.word_tokenize(sent)\n",
        "    sent = nltk.pos_tag(sent)\n",
        "    for i in sent:\n",
        "      if i[1] == 'JJ':\n",
        "        if len(i[0])>4:\n",
        "          tokens.append(i[0])\n",
        "    document.append(tokens)\n",
        "    while [] in document :\n",
        "      document.remove([])\n",
        " \n",
        "  return document"
      ],
      "metadata": {
        "id": "5FVaT5NspSQs"
      },
      "execution_count": 200,
      "outputs": []
    },
    {
      "cell_type": "code",
      "source": [
        "def get_entities(document):\n",
        "    # in our case, entities are all unique words\n",
        "    unique_words = []\n",
        "    for sent in document:\n",
        "        for word in sent:\n",
        "            if word not in unique_words:\n",
        "                unique_words.append(word)\n",
        "    return unique_words"
      ],
      "metadata": {
        "id": "BYFhgT3HUudV"
      },
      "execution_count": 185,
      "outputs": []
    },
    {
      "cell_type": "markdown",
      "source": [
        "# **Building the graph**"
      ],
      "metadata": {
        "id": "Fykk5q31vYYm"
      }
    },
    {
      "cell_type": "code",
      "source": [
        "def build_graph(doc):\n",
        "    # preprocess document for standardization\n",
        "    pdoc = preprocess_document(doc)\n",
        "    \n",
        "    # get graph nodes\n",
        "    nodes = get_entities(pdoc)\n",
        "    \n",
        "    # get graph edges\n",
        "    edges = get_relations(pdoc)\n",
        "    \n",
        "    # create graph structure with NetworkX\n",
        "    G = nx.Graph()\n",
        "    G.add_nodes_from(nodes)\n",
        "    G.add_edges_from(edges)\n",
        "    \n",
        "    return G"
      ],
      "metadata": {
        "id": "uhHYfeUXVOpV"
      },
      "execution_count": 24,
      "outputs": []
    },
    {
      "cell_type": "code",
      "source": [
        "def build_Digraph(doc):\n",
        "    # preprocess document for standardization\n",
        "    pdoc = preprocess_document(doc)\n",
        "    \n",
        "    # get graph nodes\n",
        "    nodes = get_entities(pdoc)\n",
        "    \n",
        "    # get graph edges\n",
        "    edges = get_relations(pdoc)\n",
        "    \n",
        "    # create graph structure with NetworkX\n",
        "    G = nx.DiGraph()\n",
        "    G.add_nodes_from(nodes)\n",
        "    G.add_edges_from(edges)\n",
        "    \n",
        "    return G"
      ],
      "metadata": {
        "id": "gOgypd_nIHsm"
      },
      "execution_count": 25,
      "outputs": []
    },
    {
      "cell_type": "code",
      "source": [
        "def get_relations(document):\n",
        "    # in our case, relations are bigrams in sentences\n",
        "    bigrams = []\n",
        "    for sent in document:\n",
        "        for i in range(len(sent)-1):\n",
        "            # for every word and the next in the sentence\n",
        "            pair = [sent[i], sent[i+1]]\n",
        "            # only add unique bigrams\n",
        "            if pair not in bigrams:\n",
        "                bigrams.append(pair)\n",
        "    return bigrams"
      ],
      "metadata": {
        "id": "awH7ulh-EVZm"
      },
      "execution_count": 26,
      "outputs": []
    },
    {
      "cell_type": "code",
      "source": [
        "def plot_graph(G, node_color, font_color, title=None):\n",
        "    # set figure size\n",
        "    plt.figure(figsize=(10,10))\n",
        "    \n",
        "    # define position of nodes in figure\n",
        "    pos = nx.nx_agraph.graphviz_layout(G)\n",
        "    \n",
        "    # draw nodes and edges\n",
        "    nx.draw(G, pos=pos, with_labels=True, node_size = 800, font_size = 15, node_shape = \"*\", font_color = font_color, node_color= node_color)\n",
        "    \n",
        "    # get edge labels (if any)\n",
        "    edge_labels = nx.get_edge_attributes(G, 'weight')\n",
        "    \n",
        "    # draw edge labels (if any)\n",
        "    nx.draw_networkx_edge_labels(G, pos,  edge_labels=edge_labels)\n",
        "    \n",
        "    # plot the title (if any)\n",
        "    plt.title(title)\n",
        "    \n",
        "    plt.savefig(\"Graph.png\", format=\"PNG\")\n",
        "    plt.show()\n",
        "    return"
      ],
      "metadata": {
        "id": "pOTZnzaOEVcH"
      },
      "execution_count": 175,
      "outputs": []
    },
    {
      "cell_type": "code",
      "source": [
        "def get_weighted_edges(document):\n",
        "    # in our case, relations are bigrams in sentences\n",
        "    # weights are number of equal bigrams\n",
        "    # use a dict to store number of counts\n",
        "    bigrams = {}\n",
        "    for sent in document:\n",
        "        for i in range(len(sent)-1):\n",
        "        \n",
        "            # transform to hashable key in dict\n",
        "            pair = str([sent[i], sent[i+1]])\n",
        "            \n",
        "            if pair not in bigrams.keys():\n",
        "                # weight = 1\n",
        "                bigrams[pair] = 1\n",
        "            else:\n",
        "                # already exists, weight + 1\n",
        "                bigrams[pair] += 1\n",
        "                \n",
        "    # convert to NetworkX standard form each edge connecting nodes u and v = [u, v, weight]\n",
        "    weighted_edges_format = []\n",
        "    for pair, weight in bigrams.items():\n",
        "        # revert back from hashable format\n",
        "        w1, w2 = eval(pair)\n",
        "        weighted_edges_format.append([w1, w2, weight])\n",
        "        \n",
        "    return weighted_edges_format"
      ],
      "metadata": {
        "id": "NsX1JpZNEVep"
      },
      "execution_count": 28,
      "outputs": []
    },
    {
      "cell_type": "code",
      "source": [
        "def build_weighted_digraph(doc):\n",
        "    # preprocess document for standardization\n",
        "    pdoc = preprocess_document(doc)\n",
        "    \n",
        "    # get graph nodes\n",
        "    nodes = get_entities(pdoc)\n",
        "    \n",
        "    # get weighted edges\n",
        "    weighted_edges = get_weighted_edges(pdoc)\n",
        "    \n",
        "    # create graph structure with NetworkX\n",
        "    G = nx.DiGraph()\n",
        "    G.add_nodes_from(nodes)\n",
        "    G.add_weighted_edges_from(weighted_edges)\n",
        "    \n",
        "    return G"
      ],
      "metadata": {
        "id": "UQheblYoEViD"
      },
      "execution_count": 191,
      "outputs": []
    },
    {
      "cell_type": "code",
      "source": [
        "print(build_graph(top_50_descriptions))"
      ],
      "metadata": {
        "id": "0_cfHgbuUugg",
        "colab": {
          "base_uri": "https://localhost:8080/"
        },
        "outputId": "f5c5c9d6-b277-4feb-e9c0-80a6e90d5059"
      },
      "execution_count": 186,
      "outputs": [
        {
          "output_type": "stream",
          "name": "stdout",
          "text": [
            "Graph with 42 nodes and 21 edges\n"
          ]
        }
      ]
    },
    {
      "cell_type": "code",
      "source": [
        "print(build_Digraph(top_50_descriptions))"
      ],
      "metadata": {
        "colab": {
          "base_uri": "https://localhost:8080/"
        },
        "id": "9_f6J0S2vlEr",
        "outputId": "6dbca1aa-ff48-4ad8-b499-cdf74c7510d6"
      },
      "execution_count": 187,
      "outputs": [
        {
          "output_type": "stream",
          "name": "stdout",
          "text": [
            "DiGraph with 42 nodes and 21 edges\n"
          ]
        }
      ]
    },
    {
      "cell_type": "code",
      "source": [
        "plot_graph(G = build_Digraph(top_50_descriptions), node_color = '#00FFFF', font_color ='#000000', title=None)"
      ],
      "metadata": {
        "id": "T5llx8BKUukT",
        "colab": {
          "base_uri": "https://localhost:8080/",
          "height": 751
        },
        "outputId": "84789bf0-6acd-407b-d856-a93717a54e17"
      },
      "execution_count": 201,
      "outputs": [
        {
          "output_type": "display_data",
          "data": {
            "text/plain": [
              "<Figure size 720x720 with 1 Axes>"
            ],
            "image/png": "[encoded data removed]"
          },
          "metadata": {}
        }
      ]
    },
    {
      "cell_type": "code",
      "source": [],
      "metadata": {
        "id": "2t9_ituGTO23"
      },
      "execution_count": null,
      "outputs": []
    },
    {
      "cell_type": "code",
      "source": [],
      "metadata": {
        "id": "gLTzlwPdTO7D"
      },
      "execution_count": null,
      "outputs": []
    },
    {
      "cell_type": "code",
      "source": [],
      "metadata": {
        "id": "5XZLMY6lTO-c"
      },
      "execution_count": null,
      "outputs": []
    }
  ]
}