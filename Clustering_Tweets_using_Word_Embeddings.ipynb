{
  "nbformat": 4,
  "nbformat_minor": 0,
  "metadata": {
    "colab": {
      "provenance": [],
      "authorship_tag": "ABX9TyNO+Bb4Doc2MMAnK12Zxpb6",
      "include_colab_link": true
    },
    "kernelspec": {
      "name": "python3",
      "display_name": "Python 3"
    },
    "language_info": {
      "name": "python"
    }
  },
  "cells": [
    {
      "cell_type": "markdown",
      "metadata": {
        "id": "view-in-github",
        "colab_type": "text"
      },
      "source": [
        "<a href=\"https://colab.research.google.com/github/ShaifaliKhulbe/Project_1/blob/main/Clustering_Tweets_using_Word_Embeddings.ipynb\" target=\"_parent\"><img src=\"https://colab.research.google.com/assets/colab-badge.svg\" alt=\"Open In Colab\"/></a>"
      ]
    },
    {
      "cell_type": "code",
      "source": [
        "import nltk\n",
        "nltk.download('stopwords')"
      ],
      "metadata": {
        "colab": {
          "base_uri": "https://localhost:8080/"
        },
        "id": "sPXEhf932HJB",
        "outputId": "1da61d26-40b6-40a4-acc7-6803374c049e"
      },
      "execution_count": null,
      "outputs": [
        {
          "output_type": "stream",
          "name": "stderr",
          "text": [
            "[nltk_data] Downloading package stopwords to /root/nltk_data...\n",
            "[nltk_data]   Unzipping corpora/stopwords.zip.\n"
          ]
        },
        {
          "output_type": "execute_result",
          "data": {
            "text/plain": [
              "True"
            ]
          },
          "metadata": {},
          "execution_count": 1
        }
      ]
    },
    {
      "cell_type": "code",
      "source": [
        "import pandas as pd\n",
        "\n",
        "from nltk.corpus import stopwords\n",
        "from matplotlib import pyplot as plt\n",
        "import re\n",
        "import seaborn as sns\n",
        "\n",
        "stop = set(stopwords.words(\"english\"))"
      ],
      "metadata": {
        "id": "93J1lYi5W6ok"
      },
      "execution_count": null,
      "outputs": []
    },
    {
      "cell_type": "code",
      "source": [
        "def preprocess(text):\n",
        "\n",
        "  text_input = re.sub('[^a-zA-Z1-9]+', ' ', str(text))\n",
        "\n",
        "  output = re.sub(r'\\d+', '',text_input)\n",
        "\n",
        "  return output.lower().strip()\n",
        "\n",
        "def remove_stopwords(text):\n",
        "\n",
        "  filtered_words = [word.lower() for word in text.split() if word.lower() not in stop]\n",
        "\n",
        "  return \" \".join(filtered_words)"
      ],
      "metadata": {
        "id": "uqmTzU2tyEf9"
      },
      "execution_count": null,
      "outputs": []
    },
    {
      "cell_type": "code",
      "source": [
        "data = pd.read_csv(\"/content/sentiment_culture_.csv\")"
      ],
      "metadata": {
        "id": "ZSWP092GSPl6"
      },
      "execution_count": null,
      "outputs": []
    },
    {
      "cell_type": "code",
      "source": [
        "data"
      ],
      "metadata": {
        "colab": {
          "base_uri": "https://localhost:8080/",
          "height": 991
        },
        "id": "CbHqI9C52xJd",
        "outputId": "e42744e0-a234-46d5-be06-2d1ab8f802e4"
      },
      "execution_count": null,
      "outputs": [
        {
          "output_type": "execute_result",
          "data": {
            "text/plain": [
              "      Unnamed: 0  Unnamed: 0.1  Unnamed: 0.1.1             tweet_id  \\\n",
              "0              0             0               0  1612145984569499648   \n",
              "1              1             1               1  1612145983294431236   \n",
              "2              2             2               2  1612145981025550336   \n",
              "3              3             3               3  1612145968836665344   \n",
              "4              4             4               4  1612145968379756544   \n",
              "...          ...           ...             ...                  ...   \n",
              "3169        3169          3169            3169  1612122656018501632   \n",
              "3170        3170          3170            3170  1612122642403803141   \n",
              "3171        3171          3171            3171  1612122622225174530   \n",
              "3172        3172          3172            3172  1612122616936148994   \n",
              "3173        3173          3173            3173  1612122611487748097   \n",
              "\n",
              "                                    user_name  \\\n",
              "0                                  NB Geek 🇺🇸   \n",
              "1                           wwerf PhD 🚫🙎🏼‍♀️🚫   \n",
              "2                                 ANC Dweller   \n",
              "3                        Kenyans On Reddit 🇰🇪   \n",
              "4                   A New Tale Is Far Away...   \n",
              "...                                       ...   \n",
              "3169                                   Renato   \n",
              "3170                                   Jeremy   \n",
              "3171                              Larry Kraus   \n",
              "3172  Negative Steve 🏳️‍🌈🏳️‍⚧️🇮🇪🇺🇸💚♻️☮️✝️☯️☮️   \n",
              "3173                                      Ben   \n",
              "\n",
              "                                       user_description  total_user_tweets  \\\n",
              "0     We are not civilized. We are just savages livi...              12756   \n",
              "1     triple ♏️ // nsfw//this whole page is a tw// $...              10825   \n",
              "2                                       casual observer               3233   \n",
              "3     Come join your fellow Kenyans™ on Reddit 👉 htt...              67961   \n",
              "4     Just a happy go lucky Alberta Cowgirl. Pro BLM...               1719   \n",
              "...                                                 ...                ...   \n",
              "3169  Everything happens for a reason, but sometimes...             747070   \n",
              "3170                            Joe Schmo from OH HI O!                403   \n",
              "3171  Fine Art Landscape photographer highlighting t...                 54   \n",
              "3172  I don’t care. I won’t listen to your conspirac...               5980   \n",
              "3173  Maiden, F1 and, for my sins, Spurs\\n\\nOpinions...               7515   \n",
              "\n",
              "                     time                                              tweet  \\\n",
              "0     2023-01-08 17:55:29  @ClackShaw @QasimRashid It is a great culture ...   \n",
              "1     2023-01-08 17:55:29  something so beautiful about dating within you...   \n",
              "2     2023-01-08 17:55:28  @republic_reason @SenateGOP And endorsed a cul...   \n",
              "3     2023-01-08 17:55:25  ✦ [ Mahrez ] ● Culture &amp; Religion \\n\\nWhat...   \n",
              "4     2023-01-08 17:55:25  @Wallace34196736 @kristypilip @RachelNotley Lo...   \n",
              "...                   ...                                                ...   \n",
              "3169  2023-01-08 16:22:47  More murders in the new year than days. New Or...   \n",
              "3170  2023-01-08 16:22:44  @stillgray Does Thailand not count as the east...   \n",
              "3171  2023-01-08 16:22:39  @DLoesch Unfortunately, this is our future giv...   \n",
              "3172  2023-01-08 16:22:38  @Schaman_34 @beanhead54 @JoJoFromJerz So teach...   \n",
              "3173  2023-01-08 16:22:37  @LeeAndersonMP_ But nobody thinks they aren't?...   \n",
              "\n",
              "                   location  ...  following  hashtags likes  \\\n",
              "0     The sicks of Indiana   ...        278        []     0   \n",
              "1                Texas, USA  ...        348        []     0   \n",
              "2                       NaN  ...        285        []     0   \n",
              "3                   Nairobi  ...         17        []     0   \n",
              "4                       NaN  ...         69        []     0   \n",
              "...                     ...  ...        ...       ...   ...   \n",
              "3169       Below Sea Level   ...       1984        []     0   \n",
              "3170              Ohio, USA  ...        104        []     3   \n",
              "3171        St George, Utah  ...         29        []     0   \n",
              "3172               Hell, MI  ...        143        []     0   \n",
              "3173                    NaN  ...         47        []    23   \n",
              "\n",
              "      number_of_retweets  quote_tweet_count  total_count  \\\n",
              "0                      0                  0            0   \n",
              "1                      0                  0            0   \n",
              "2                      0                  0            0   \n",
              "3                      0                  0            0   \n",
              "4                      0                  0            0   \n",
              "...                  ...                ...          ...   \n",
              "3169                   1                  0            1   \n",
              "3170                   0                  0            3   \n",
              "3171                   0                  0            0   \n",
              "3172                   0                  0            0   \n",
              "3173                   0                  0           23   \n",
              "\n",
              "                                          cleaned_tweet  polarity  \\\n",
              "0     it is a great culture full of love, acceptance...  0.550000   \n",
              "1     something so beautiful about dating within you...  0.725000   \n",
              "2     and endorsed a culture that lead to a 6 year o...  0.100000   \n",
              "3     ✦ [ mahrez ] ● culture &amp; religion \\n\\nwhat...  0.000000   \n",
              "4     lol not your kind of \"freedom\" hence why your ...  0.700000   \n",
              "...                                                 ...       ...   \n",
              "3169  more murders in the new year than days. new or...  0.257576   \n",
              "3170  does thailand not count as the east? my unders...  0.000000   \n",
              "3171  unfortunately, this is our future given the de... -0.266667   \n",
              "3172  so teaching kids that we killed the native ame... -0.100000   \n",
              "3173  but nobody thinks they aren't? it mind bogglin...  0.000000   \n",
              "\n",
              "      subjectivity  Sentiment  \n",
              "0         0.633333   Positive  \n",
              "1         1.000000   Positive  \n",
              "2         0.200000   Positive  \n",
              "3         0.000000    Neutral  \n",
              "4         0.800000   Positive  \n",
              "...            ...        ...  \n",
              "3169      0.469697   Positive  \n",
              "3170      0.500000    Neutral  \n",
              "3171      0.508333   Negative  \n",
              "3172      0.000000   Negative  \n",
              "3173      0.000000    Neutral  \n",
              "\n",
              "[3174 rows x 21 columns]"
            ],
            "text/html": [
              "\n",
              "  <div id=\"df-e8a34fe2-8f34-4d31-9749-34301a41d1b7\">\n",
              "    <div class=\"colab-df-container\">\n",
              "      <div>\n",
              "<style scoped>\n",
              "    .dataframe tbody tr th:only-of-type {\n",
              "        vertical-align: middle;\n",
              "    }\n",
              "\n",
              "    .dataframe tbody tr th {\n",
              "        vertical-align: top;\n",
              "    }\n",
              "\n",
              "    .dataframe thead th {\n",
              "        text-align: right;\n",
              "    }\n",
              "</style>\n",
              "<table border=\"1\" class=\"dataframe\">\n",
              "  <thead>\n",
              "    <tr style=\"text-align: right;\">\n",
              "      <th></th>\n",
              "      <th>Unnamed: 0</th>\n",
              "      <th>Unnamed: 0.1</th>\n",
              "      <th>Unnamed: 0.1.1</th>\n",
              "      <th>tweet_id</th>\n",
              "      <th>user_name</th>\n",
              "      <th>user_description</th>\n",
              "      <th>total_user_tweets</th>\n",
              "      <th>time</th>\n",
              "      <th>tweet</th>\n",
              "      <th>location</th>\n",
              "      <th>...</th>\n",
              "      <th>following</th>\n",
              "      <th>hashtags</th>\n",
              "      <th>likes</th>\n",
              "      <th>number_of_retweets</th>\n",
              "      <th>quote_tweet_count</th>\n",
              "      <th>total_count</th>\n",
              "      <th>cleaned_tweet</th>\n",
              "      <th>polarity</th>\n",
              "      <th>subjectivity</th>\n",
              "      <th>Sentiment</th>\n",
              "    </tr>\n",
              "  </thead>\n",
              "  <tbody>\n",
              "    <tr>\n",
              "      <th>0</th>\n",
              "      <td>0</td>\n",
              "      <td>0</td>\n",
              "      <td>0</td>\n",
              "      <td>1612145984569499648</td>\n",
              "      <td>NB Geek 🇺🇸</td>\n",
              "      <td>We are not civilized. We are just savages livi...</td>\n",
              "      <td>12756</td>\n",
              "      <td>2023-01-08 17:55:29</td>\n",
              "      <td>@ClackShaw @QasimRashid It is a great culture ...</td>\n",
              "      <td>The sicks of Indiana</td>\n",
              "      <td>...</td>\n",
              "      <td>278</td>\n",
              "      <td>[]</td>\n",
              "      <td>0</td>\n",
              "      <td>0</td>\n",
              "      <td>0</td>\n",
              "      <td>0</td>\n",
              "      <td>it is a great culture full of love, acceptance...</td>\n",
              "      <td>0.550000</td>\n",
              "      <td>0.633333</td>\n",
              "      <td>Positive</td>\n",
              "    </tr>\n",
              "    <tr>\n",
              "      <th>1</th>\n",
              "      <td>1</td>\n",
              "      <td>1</td>\n",
              "      <td>1</td>\n",
              "      <td>1612145983294431236</td>\n",
              "      <td>wwerf PhD 🚫🙎🏼‍♀️🚫</td>\n",
              "      <td>triple ♏️ // nsfw//this whole page is a tw// $...</td>\n",
              "      <td>10825</td>\n",
              "      <td>2023-01-08 17:55:29</td>\n",
              "      <td>something so beautiful about dating within you...</td>\n",
              "      <td>Texas, USA</td>\n",
              "      <td>...</td>\n",
              "      <td>348</td>\n",
              "      <td>[]</td>\n",
              "      <td>0</td>\n",
              "      <td>0</td>\n",
              "      <td>0</td>\n",
              "      <td>0</td>\n",
              "      <td>something so beautiful about dating within you...</td>\n",
              "      <td>0.725000</td>\n",
              "      <td>1.000000</td>\n",
              "      <td>Positive</td>\n",
              "    </tr>\n",
              "    <tr>\n",
              "      <th>2</th>\n",
              "      <td>2</td>\n",
              "      <td>2</td>\n",
              "      <td>2</td>\n",
              "      <td>1612145981025550336</td>\n",
              "      <td>ANC Dweller</td>\n",
              "      <td>casual observer</td>\n",
              "      <td>3233</td>\n",
              "      <td>2023-01-08 17:55:28</td>\n",
              "      <td>@republic_reason @SenateGOP And endorsed a cul...</td>\n",
              "      <td>NaN</td>\n",
              "      <td>...</td>\n",
              "      <td>285</td>\n",
              "      <td>[]</td>\n",
              "      <td>0</td>\n",
              "      <td>0</td>\n",
              "      <td>0</td>\n",
              "      <td>0</td>\n",
              "      <td>and endorsed a culture that lead to a 6 year o...</td>\n",
              "      <td>0.100000</td>\n",
              "      <td>0.200000</td>\n",
              "      <td>Positive</td>\n",
              "    </tr>\n",
              "    <tr>\n",
              "      <th>3</th>\n",
              "      <td>3</td>\n",
              "      <td>3</td>\n",
              "      <td>3</td>\n",
              "      <td>1612145968836665344</td>\n",
              "      <td>Kenyans On Reddit 🇰🇪</td>\n",
              "      <td>Come join your fellow Kenyans™ on Reddit 👉 htt...</td>\n",
              "      <td>67961</td>\n",
              "      <td>2023-01-08 17:55:25</td>\n",
              "      <td>✦ [ Mahrez ] ● Culture &amp;amp; Religion \\n\\nWhat...</td>\n",
              "      <td>Nairobi</td>\n",
              "      <td>...</td>\n",
              "      <td>17</td>\n",
              "      <td>[]</td>\n",
              "      <td>0</td>\n",
              "      <td>0</td>\n",
              "      <td>0</td>\n",
              "      <td>0</td>\n",
              "      <td>✦ [ mahrez ] ● culture &amp;amp; religion \\n\\nwhat...</td>\n",
              "      <td>0.000000</td>\n",
              "      <td>0.000000</td>\n",
              "      <td>Neutral</td>\n",
              "    </tr>\n",
              "    <tr>\n",
              "      <th>4</th>\n",
              "      <td>4</td>\n",
              "      <td>4</td>\n",
              "      <td>4</td>\n",
              "      <td>1612145968379756544</td>\n",
              "      <td>A New Tale Is Far Away...</td>\n",
              "      <td>Just a happy go lucky Alberta Cowgirl. Pro BLM...</td>\n",
              "      <td>1719</td>\n",
              "      <td>2023-01-08 17:55:25</td>\n",
              "      <td>@Wallace34196736 @kristypilip @RachelNotley Lo...</td>\n",
              "      <td>NaN</td>\n",
              "      <td>...</td>\n",
              "      <td>69</td>\n",
              "      <td>[]</td>\n",
              "      <td>0</td>\n",
              "      <td>0</td>\n",
              "      <td>0</td>\n",
              "      <td>0</td>\n",
              "      <td>lol not your kind of \"freedom\" hence why your ...</td>\n",
              "      <td>0.700000</td>\n",
              "      <td>0.800000</td>\n",
              "      <td>Positive</td>\n",
              "    </tr>\n",
              "    <tr>\n",
              "      <th>...</th>\n",
              "      <td>...</td>\n",
              "      <td>...</td>\n",
              "      <td>...</td>\n",
              "      <td>...</td>\n",
              "      <td>...</td>\n",
              "      <td>...</td>\n",
              "      <td>...</td>\n",
              "      <td>...</td>\n",
              "      <td>...</td>\n",
              "      <td>...</td>\n",
              "      <td>...</td>\n",
              "      <td>...</td>\n",
              "      <td>...</td>\n",
              "      <td>...</td>\n",
              "      <td>...</td>\n",
              "      <td>...</td>\n",
              "      <td>...</td>\n",
              "      <td>...</td>\n",
              "      <td>...</td>\n",
              "      <td>...</td>\n",
              "      <td>...</td>\n",
              "    </tr>\n",
              "    <tr>\n",
              "      <th>3169</th>\n",
              "      <td>3169</td>\n",
              "      <td>3169</td>\n",
              "      <td>3169</td>\n",
              "      <td>1612122656018501632</td>\n",
              "      <td>Renato</td>\n",
              "      <td>Everything happens for a reason, but sometimes...</td>\n",
              "      <td>747070</td>\n",
              "      <td>2023-01-08 16:22:47</td>\n",
              "      <td>More murders in the new year than days. New Or...</td>\n",
              "      <td>Below Sea Level</td>\n",
              "      <td>...</td>\n",
              "      <td>1984</td>\n",
              "      <td>[]</td>\n",
              "      <td>0</td>\n",
              "      <td>1</td>\n",
              "      <td>0</td>\n",
              "      <td>1</td>\n",
              "      <td>more murders in the new year than days. new or...</td>\n",
              "      <td>0.257576</td>\n",
              "      <td>0.469697</td>\n",
              "      <td>Positive</td>\n",
              "    </tr>\n",
              "    <tr>\n",
              "      <th>3170</th>\n",
              "      <td>3170</td>\n",
              "      <td>3170</td>\n",
              "      <td>3170</td>\n",
              "      <td>1612122642403803141</td>\n",
              "      <td>Jeremy</td>\n",
              "      <td>Joe Schmo from OH HI O!</td>\n",
              "      <td>403</td>\n",
              "      <td>2023-01-08 16:22:44</td>\n",
              "      <td>@stillgray Does Thailand not count as the east...</td>\n",
              "      <td>Ohio, USA</td>\n",
              "      <td>...</td>\n",
              "      <td>104</td>\n",
              "      <td>[]</td>\n",
              "      <td>3</td>\n",
              "      <td>0</td>\n",
              "      <td>0</td>\n",
              "      <td>3</td>\n",
              "      <td>does thailand not count as the east? my unders...</td>\n",
              "      <td>0.000000</td>\n",
              "      <td>0.500000</td>\n",
              "      <td>Neutral</td>\n",
              "    </tr>\n",
              "    <tr>\n",
              "      <th>3171</th>\n",
              "      <td>3171</td>\n",
              "      <td>3171</td>\n",
              "      <td>3171</td>\n",
              "      <td>1612122622225174530</td>\n",
              "      <td>Larry Kraus</td>\n",
              "      <td>Fine Art Landscape photographer highlighting t...</td>\n",
              "      <td>54</td>\n",
              "      <td>2023-01-08 16:22:39</td>\n",
              "      <td>@DLoesch Unfortunately, this is our future giv...</td>\n",
              "      <td>St George, Utah</td>\n",
              "      <td>...</td>\n",
              "      <td>29</td>\n",
              "      <td>[]</td>\n",
              "      <td>0</td>\n",
              "      <td>0</td>\n",
              "      <td>0</td>\n",
              "      <td>0</td>\n",
              "      <td>unfortunately, this is our future given the de...</td>\n",
              "      <td>-0.266667</td>\n",
              "      <td>0.508333</td>\n",
              "      <td>Negative</td>\n",
              "    </tr>\n",
              "    <tr>\n",
              "      <th>3172</th>\n",
              "      <td>3172</td>\n",
              "      <td>3172</td>\n",
              "      <td>3172</td>\n",
              "      <td>1612122616936148994</td>\n",
              "      <td>Negative Steve 🏳️‍🌈🏳️‍⚧️🇮🇪🇺🇸💚♻️☮️✝️☯️☮️</td>\n",
              "      <td>I don’t care. I won’t listen to your conspirac...</td>\n",
              "      <td>5980</td>\n",
              "      <td>2023-01-08 16:22:38</td>\n",
              "      <td>@Schaman_34 @beanhead54 @JoJoFromJerz So teach...</td>\n",
              "      <td>Hell, MI</td>\n",
              "      <td>...</td>\n",
              "      <td>143</td>\n",
              "      <td>[]</td>\n",
              "      <td>0</td>\n",
              "      <td>0</td>\n",
              "      <td>0</td>\n",
              "      <td>0</td>\n",
              "      <td>so teaching kids that we killed the native ame...</td>\n",
              "      <td>-0.100000</td>\n",
              "      <td>0.000000</td>\n",
              "      <td>Negative</td>\n",
              "    </tr>\n",
              "    <tr>\n",
              "      <th>3173</th>\n",
              "      <td>3173</td>\n",
              "      <td>3173</td>\n",
              "      <td>3173</td>\n",
              "      <td>1612122611487748097</td>\n",
              "      <td>Ben</td>\n",
              "      <td>Maiden, F1 and, for my sins, Spurs\\n\\nOpinions...</td>\n",
              "      <td>7515</td>\n",
              "      <td>2023-01-08 16:22:37</td>\n",
              "      <td>@LeeAndersonMP_ But nobody thinks they aren't?...</td>\n",
              "      <td>NaN</td>\n",
              "      <td>...</td>\n",
              "      <td>47</td>\n",
              "      <td>[]</td>\n",
              "      <td>23</td>\n",
              "      <td>0</td>\n",
              "      <td>0</td>\n",
              "      <td>23</td>\n",
              "      <td>but nobody thinks they aren't? it mind bogglin...</td>\n",
              "      <td>0.000000</td>\n",
              "      <td>0.000000</td>\n",
              "      <td>Neutral</td>\n",
              "    </tr>\n",
              "  </tbody>\n",
              "</table>\n",
              "<p>3174 rows × 21 columns</p>\n",
              "</div>\n",
              "      <button class=\"colab-df-convert\" onclick=\"convertToInteractive('df-e8a34fe2-8f34-4d31-9749-34301a41d1b7')\"\n",
              "              title=\"Convert this dataframe to an interactive table.\"\n",
              "              style=\"display:none;\">\n",
              "        \n",
              "  <svg xmlns=\"http://www.w3.org/2000/svg\" height=\"24px\"viewBox=\"0 0 24 24\"\n",
              "       width=\"24px\">\n",
              "    <path d=\"M0 0h24v24H0V0z\" fill=\"none\"/>\n",
              "    <path d=\"M18.56 5.44l.94 2.06.94-2.06 2.06-.94-2.06-.94-.94-2.06-.94 2.06-2.06.94zm-11 1L8.5 8.5l.94-2.06 2.06-.94-2.06-.94L8.5 2.5l-.94 2.06-2.06.94zm10 10l.94 2.06.94-2.06 2.06-.94-2.06-.94-.94-2.06-.94 2.06-2.06.94z\"/><path d=\"M17.41 7.96l-1.37-1.37c-.4-.4-.92-.59-1.43-.59-.52 0-1.04.2-1.43.59L10.3 9.45l-7.72 7.72c-.78.78-.78 2.05 0 2.83L4 21.41c.39.39.9.59 1.41.59.51 0 1.02-.2 1.41-.59l7.78-7.78 2.81-2.81c.8-.78.8-2.07 0-2.86zM5.41 20L4 18.59l7.72-7.72 1.47 1.35L5.41 20z\"/>\n",
              "  </svg>\n",
              "      </button>\n",
              "      \n",
              "  <style>\n",
              "    .colab-df-container {\n",
              "      display:flex;\n",
              "      flex-wrap:wrap;\n",
              "      gap: 12px;\n",
              "    }\n",
              "\n",
              "    .colab-df-convert {\n",
              "      background-color: #E8F0FE;\n",
              "      border: none;\n",
              "      border-radius: 50%;\n",
              "      cursor: pointer;\n",
              "      display: none;\n",
              "      fill: #1967D2;\n",
              "      height: 32px;\n",
              "      padding: 0 0 0 0;\n",
              "      width: 32px;\n",
              "    }\n",
              "\n",
              "    .colab-df-convert:hover {\n",
              "      background-color: #E2EBFA;\n",
              "      box-shadow: 0px 1px 2px rgba(60, 64, 67, 0.3), 0px 1px 3px 1px rgba(60, 64, 67, 0.15);\n",
              "      fill: #174EA6;\n",
              "    }\n",
              "\n",
              "    [theme=dark] .colab-df-convert {\n",
              "      background-color: #3B4455;\n",
              "      fill: #D2E3FC;\n",
              "    }\n",
              "\n",
              "    [theme=dark] .colab-df-convert:hover {\n",
              "      background-color: #434B5C;\n",
              "      box-shadow: 0px 1px 3px 1px rgba(0, 0, 0, 0.15);\n",
              "      filter: drop-shadow(0px 1px 2px rgba(0, 0, 0, 0.3));\n",
              "      fill: #FFFFFF;\n",
              "    }\n",
              "  </style>\n",
              "\n",
              "      <script>\n",
              "        const buttonEl =\n",
              "          document.querySelector('#df-e8a34fe2-8f34-4d31-9749-34301a41d1b7 button.colab-df-convert');\n",
              "        buttonEl.style.display =\n",
              "          google.colab.kernel.accessAllowed ? 'block' : 'none';\n",
              "\n",
              "        async function convertToInteractive(key) {\n",
              "          const element = document.querySelector('#df-e8a34fe2-8f34-4d31-9749-34301a41d1b7');\n",
              "          const dataTable =\n",
              "            await google.colab.kernel.invokeFunction('convertToInteractive',\n",
              "                                                     [key], {});\n",
              "          if (!dataTable) return;\n",
              "\n",
              "          const docLinkHtml = 'Like what you see? Visit the ' +\n",
              "            '<a target=\"_blank\" href=https://colab.research.google.com/notebooks/data_table.ipynb>data table notebook</a>'\n",
              "            + ' to learn more about interactive tables.';\n",
              "          element.innerHTML = '';\n",
              "          dataTable['output_type'] = 'display_data';\n",
              "          await google.colab.output.renderOutput(dataTable, element);\n",
              "          const docLink = document.createElement('div');\n",
              "          docLink.innerHTML = docLinkHtml;\n",
              "          element.appendChild(docLink);\n",
              "        }\n",
              "      </script>\n",
              "    </div>\n",
              "  </div>\n",
              "  "
            ]
          },
          "metadata": {},
          "execution_count": 5
        }
      ]
    },
    {
      "cell_type": "code",
      "source": [
        "data['cleaned_tweet'] = data.cleaned_tweet.map(preprocess)\n",
        "\n",
        "data['cleaned_tweet\t'] = data.cleaned_tweet.map(remove_stopwords)"
      ],
      "metadata": {
        "id": "7Aq8vAnQyEkG"
      },
      "execution_count": null,
      "outputs": []
    },
    {
      "cell_type": "code",
      "source": [
        "data['cleaned_tweet\t']"
      ],
      "metadata": {
        "id": "2zX4km8wSPoY",
        "colab": {
          "base_uri": "https://localhost:8080/"
        },
        "outputId": "b1907d49-15f9-47b6-e4ec-ea361f8420da"
      },
      "execution_count": null,
      "outputs": [
        {
          "output_type": "execute_result",
          "data": {
            "text/plain": [
              "0       great culture full love acceptance tolerance t...\n",
              "1               something beautiful dating within culture\n",
              "2       endorsed culture lead year old shooting st gra...\n",
              "3       mahrez culture amp religion difference guy amp...\n",
              "4                 lol kind freedom hence culture replaced\n",
              "                              ...                        \n",
              "3169            murders new year days new orleans culture\n",
              "3170    thailand count east understanding open culture...\n",
              "3171    unfortunately future given decimation laws cul...\n",
              "3172    teaching kids killed native americans enslaved...\n",
              "3173    nobody thinks mind boggling people fall cultur...\n",
              "Name: cleaned_tweet\\t, Length: 3174, dtype: object"
            ]
          },
          "metadata": {},
          "execution_count": 7
        }
      ]
    },
    {
      "cell_type": "code",
      "source": [
        "def build_corpus(data):\n",
        "\n",
        "  corpus = []\n",
        "\n",
        "  for sentence in data.iteritems():\n",
        "\n",
        "    word_list = sentence[1].split(\" \")\n",
        "\n",
        "    corpus.append(word_list)\n",
        "\n",
        "  return corpus\n",
        "\n",
        "corpus = build_corpus(data['cleaned_tweet'])"
      ],
      "metadata": {
        "id": "NUfeiJHpSPrA"
      },
      "execution_count": null,
      "outputs": []
    },
    {
      "cell_type": "code",
      "source": [
        "!pip install gensim"
      ],
      "metadata": {
        "colab": {
          "base_uri": "https://localhost:8080/"
        },
        "id": "c2Z8j2Nj4GM5",
        "outputId": "ca6f321c-253a-493e-db38-e06cb4dd8321"
      },
      "execution_count": null,
      "outputs": [
        {
          "output_type": "stream",
          "name": "stdout",
          "text": [
            "Looking in indexes: https://pypi.org/simple, https://us-python.pkg.dev/colab-wheels/public/simple/\n",
            "Requirement already satisfied: gensim in /usr/local/lib/python3.8/dist-packages (3.6.0)\n",
            "Requirement already satisfied: scipy>=0.18.1 in /usr/local/lib/python3.8/dist-packages (from gensim) (1.7.3)\n",
            "Requirement already satisfied: six>=1.5.0 in /usr/local/lib/python3.8/dist-packages (from gensim) (1.15.0)\n",
            "Requirement already satisfied: smart-open>=1.2.1 in /usr/local/lib/python3.8/dist-packages (from gensim) (6.3.0)\n",
            "Requirement already satisfied: numpy>=1.11.3 in /usr/local/lib/python3.8/dist-packages (from gensim) (1.21.6)\n"
          ]
        }
      ]
    },
    {
      "cell_type": "code",
      "source": [
        "!pip install numpy"
      ],
      "metadata": {
        "colab": {
          "base_uri": "https://localhost:8080/"
        },
        "id": "rM3O_A_S5_2Z",
        "outputId": "1efb385e-32ec-44e9-ce68-313692cdac5a"
      },
      "execution_count": null,
      "outputs": [
        {
          "output_type": "stream",
          "name": "stdout",
          "text": [
            "Looking in indexes: https://pypi.org/simple, https://us-python.pkg.dev/colab-wheels/public/simple/\n",
            "Requirement already satisfied: numpy in /usr/local/lib/python3.8/dist-packages (1.21.6)\n"
          ]
        }
      ]
    },
    {
      "cell_type": "markdown",
      "source": [],
      "metadata": {
        "id": "gdSoKGdhxZb_"
      }
    },
    {
      "cell_type": "code",
      "source": [
        "from gensim.models import Word2Vec"
      ],
      "metadata": {
        "id": "jq8BqETLSPtd"
      },
      "execution_count": null,
      "outputs": []
    },
    {
      "cell_type": "code",
      "source": [
        "model = Word2Vec(corpus, size=100, min_count=1)"
      ],
      "metadata": {
        "id": "EyvUflV7SPxn",
        "colab": {
          "base_uri": "https://localhost:8080/"
        },
        "outputId": "955ac410-7e5c-4e5d-8bd7-147c880846a3"
      },
      "execution_count": null,
      "outputs": [
        {
          "output_type": "stream",
          "name": "stderr",
          "text": [
            "WARNING:gensim.models.base_any2vec:under 10 jobs per worker: consider setting a smaller `batch_words' for smoother alpha decay\n"
          ]
        }
      ]
    },
    {
      "cell_type": "code",
      "source": [
        "model.wv"
      ],
      "metadata": {
        "colab": {
          "base_uri": "https://localhost:8080/"
        },
        "id": "nZ_jC43SGNmz",
        "outputId": "afe79c24-be4d-4d9a-b38e-4ba94af8f966"
      },
      "execution_count": null,
      "outputs": [
        {
          "output_type": "execute_result",
          "data": {
            "text/plain": [
              "<gensim.models.keyedvectors.Word2VecKeyedVectors at 0x7f7dbd6a1d30>"
            ]
          },
          "metadata": {},
          "execution_count": 37
        }
      ]
    },
    {
      "cell_type": "code",
      "source": [
        "from sklearn.decomposition import PCA\n",
        "\n",
        "# fit a 2d PCA model to the vectors\n",
        "#vectors = model.wv.vocab\n",
        "\n",
        "vectors = model[model.wv.vocab]\n",
        "\n",
        "#vocab = w2v_model.wv.key_to_index.keys()\n",
        "words = list(model.wv.vocab)\n",
        "\n",
        "pca = PCA(n_components=2)\n",
        "\n",
        "PCA_result_scores = pca.fit_transform(vectors)\n",
        "\n",
        "# prepare a dataframe\n",
        "\n",
        "words = pd.DataFrame(words)\n",
        "\n",
        "PCA_result = pd.DataFrame(PCA_result_scores)\n",
        "\n",
        "PCA_result['x_values'] =PCA_result.iloc[0:, 0]\n",
        "\n",
        "PCA_result['y_values'] =PCA_result.iloc[0:, 1]\n",
        "\n",
        "PCA_final = pd.merge(words, PCA_result, left_index=True, right_index=True)\n",
        "\n",
        "PCA_final['word'] =PCA_final.iloc[0:, 0]\n",
        "\n",
        "PCA_data_complet =PCA_final[['word','x_values','y_values']]"
      ],
      "metadata": {
        "colab": {
          "base_uri": "https://localhost:8080/"
        },
        "id": "RO7xt-rF6yeo",
        "outputId": "95b3e428-bb98-40a7-9ccc-6da17307883d"
      },
      "execution_count": null,
      "outputs": [
        {
          "output_type": "stream",
          "name": "stderr",
          "text": [
            "<ipython-input-38-ffae91c72b48>:6: DeprecationWarning: Call to deprecated `__getitem__` (Method will be removed in 4.0.0, use self.wv.__getitem__() instead).\n",
            "  vectors = model[model.wv.vocab]\n"
          ]
        }
      ]
    },
    {
      "cell_type": "code",
      "source": [
        "PCA_data_complet.to_csv('PCA_data_complet.csv',index=False)"
      ],
      "metadata": {
        "id": "runOI-PiJtt1"
      },
      "execution_count": null,
      "outputs": []
    },
    {
      "cell_type": "code",
      "source": [
        "PCA_data_complet"
      ],
      "metadata": {
        "colab": {
          "base_uri": "https://localhost:8080/",
          "height": 423
        },
        "id": "t7lJ3kCwJz-8",
        "outputId": "6fa7f331-6198-4343-d0ec-e35e3fb5c0a9"
      },
      "execution_count": null,
      "outputs": [
        {
          "output_type": "execute_result",
          "data": {
            "text/plain": [
              "               word  x_values  y_values\n",
              "0                it  5.381099 -0.019941\n",
              "1                is  6.475116 -0.009914\n",
              "2                 a  7.012401 -0.021929\n",
              "3             great  1.997326 -0.005385\n",
              "4           culture  6.969758 -0.000837\n",
              "...             ...       ...       ...\n",
              "8125        orleans -0.174426  0.002774\n",
              "8126  tansgenderism -0.211622 -0.002956\n",
              "8127     decimation -0.164317  0.004522\n",
              "8128       boggling -0.208845  0.001808\n",
              "8129       bollocks -0.206190  0.001107\n",
              "\n",
              "[8130 rows x 3 columns]"
            ],
            "text/html": [
              "\n",
              "  <div id=\"df-53d0c52d-edc9-4d1a-baf6-61d54fbf5560\">\n",
              "    <div class=\"colab-df-container\">\n",
              "      <div>\n",
              "<style scoped>\n",
              "    .dataframe tbody tr th:only-of-type {\n",
              "        vertical-align: middle;\n",
              "    }\n",
              "\n",
              "    .dataframe tbody tr th {\n",
              "        vertical-align: top;\n",
              "    }\n",
              "\n",
              "    .dataframe thead th {\n",
              "        text-align: right;\n",
              "    }\n",
              "</style>\n",
              "<table border=\"1\" class=\"dataframe\">\n",
              "  <thead>\n",
              "    <tr style=\"text-align: right;\">\n",
              "      <th></th>\n",
              "      <th>word</th>\n",
              "      <th>x_values</th>\n",
              "      <th>y_values</th>\n",
              "    </tr>\n",
              "  </thead>\n",
              "  <tbody>\n",
              "    <tr>\n",
              "      <th>0</th>\n",
              "      <td>it</td>\n",
              "      <td>5.381099</td>\n",
              "      <td>-0.019941</td>\n",
              "    </tr>\n",
              "    <tr>\n",
              "      <th>1</th>\n",
              "      <td>is</td>\n",
              "      <td>6.475116</td>\n",
              "      <td>-0.009914</td>\n",
              "    </tr>\n",
              "    <tr>\n",
              "      <th>2</th>\n",
              "      <td>a</td>\n",
              "      <td>7.012401</td>\n",
              "      <td>-0.021929</td>\n",
              "    </tr>\n",
              "    <tr>\n",
              "      <th>3</th>\n",
              "      <td>great</td>\n",
              "      <td>1.997326</td>\n",
              "      <td>-0.005385</td>\n",
              "    </tr>\n",
              "    <tr>\n",
              "      <th>4</th>\n",
              "      <td>culture</td>\n",
              "      <td>6.969758</td>\n",
              "      <td>-0.000837</td>\n",
              "    </tr>\n",
              "    <tr>\n",
              "      <th>...</th>\n",
              "      <td>...</td>\n",
              "      <td>...</td>\n",
              "      <td>...</td>\n",
              "    </tr>\n",
              "    <tr>\n",
              "      <th>8125</th>\n",
              "      <td>orleans</td>\n",
              "      <td>-0.174426</td>\n",
              "      <td>0.002774</td>\n",
              "    </tr>\n",
              "    <tr>\n",
              "      <th>8126</th>\n",
              "      <td>tansgenderism</td>\n",
              "      <td>-0.211622</td>\n",
              "      <td>-0.002956</td>\n",
              "    </tr>\n",
              "    <tr>\n",
              "      <th>8127</th>\n",
              "      <td>decimation</td>\n",
              "      <td>-0.164317</td>\n",
              "      <td>0.004522</td>\n",
              "    </tr>\n",
              "    <tr>\n",
              "      <th>8128</th>\n",
              "      <td>boggling</td>\n",
              "      <td>-0.208845</td>\n",
              "      <td>0.001808</td>\n",
              "    </tr>\n",
              "    <tr>\n",
              "      <th>8129</th>\n",
              "      <td>bollocks</td>\n",
              "      <td>-0.206190</td>\n",
              "      <td>0.001107</td>\n",
              "    </tr>\n",
              "  </tbody>\n",
              "</table>\n",
              "<p>8130 rows × 3 columns</p>\n",
              "</div>\n",
              "      <button class=\"colab-df-convert\" onclick=\"convertToInteractive('df-53d0c52d-edc9-4d1a-baf6-61d54fbf5560')\"\n",
              "              title=\"Convert this dataframe to an interactive table.\"\n",
              "              style=\"display:none;\">\n",
              "        \n",
              "  <svg xmlns=\"http://www.w3.org/2000/svg\" height=\"24px\"viewBox=\"0 0 24 24\"\n",
              "       width=\"24px\">\n",
              "    <path d=\"M0 0h24v24H0V0z\" fill=\"none\"/>\n",
              "    <path d=\"M18.56 5.44l.94 2.06.94-2.06 2.06-.94-2.06-.94-.94-2.06-.94 2.06-2.06.94zm-11 1L8.5 8.5l.94-2.06 2.06-.94-2.06-.94L8.5 2.5l-.94 2.06-2.06.94zm10 10l.94 2.06.94-2.06 2.06-.94-2.06-.94-.94-2.06-.94 2.06-2.06.94z\"/><path d=\"M17.41 7.96l-1.37-1.37c-.4-.4-.92-.59-1.43-.59-.52 0-1.04.2-1.43.59L10.3 9.45l-7.72 7.72c-.78.78-.78 2.05 0 2.83L4 21.41c.39.39.9.59 1.41.59.51 0 1.02-.2 1.41-.59l7.78-7.78 2.81-2.81c.8-.78.8-2.07 0-2.86zM5.41 20L4 18.59l7.72-7.72 1.47 1.35L5.41 20z\"/>\n",
              "  </svg>\n",
              "      </button>\n",
              "      \n",
              "  <style>\n",
              "    .colab-df-container {\n",
              "      display:flex;\n",
              "      flex-wrap:wrap;\n",
              "      gap: 12px;\n",
              "    }\n",
              "\n",
              "    .colab-df-convert {\n",
              "      background-color: #E8F0FE;\n",
              "      border: none;\n",
              "      border-radius: 50%;\n",
              "      cursor: pointer;\n",
              "      display: none;\n",
              "      fill: #1967D2;\n",
              "      height: 32px;\n",
              "      padding: 0 0 0 0;\n",
              "      width: 32px;\n",
              "    }\n",
              "\n",
              "    .colab-df-convert:hover {\n",
              "      background-color: #E2EBFA;\n",
              "      box-shadow: 0px 1px 2px rgba(60, 64, 67, 0.3), 0px 1px 3px 1px rgba(60, 64, 67, 0.15);\n",
              "      fill: #174EA6;\n",
              "    }\n",
              "\n",
              "    [theme=dark] .colab-df-convert {\n",
              "      background-color: #3B4455;\n",
              "      fill: #D2E3FC;\n",
              "    }\n",
              "\n",
              "    [theme=dark] .colab-df-convert:hover {\n",
              "      background-color: #434B5C;\n",
              "      box-shadow: 0px 1px 3px 1px rgba(0, 0, 0, 0.15);\n",
              "      filter: drop-shadow(0px 1px 2px rgba(0, 0, 0, 0.3));\n",
              "      fill: #FFFFFF;\n",
              "    }\n",
              "  </style>\n",
              "\n",
              "      <script>\n",
              "        const buttonEl =\n",
              "          document.querySelector('#df-53d0c52d-edc9-4d1a-baf6-61d54fbf5560 button.colab-df-convert');\n",
              "        buttonEl.style.display =\n",
              "          google.colab.kernel.accessAllowed ? 'block' : 'none';\n",
              "\n",
              "        async function convertToInteractive(key) {\n",
              "          const element = document.querySelector('#df-53d0c52d-edc9-4d1a-baf6-61d54fbf5560');\n",
              "          const dataTable =\n",
              "            await google.colab.kernel.invokeFunction('convertToInteractive',\n",
              "                                                     [key], {});\n",
              "          if (!dataTable) return;\n",
              "\n",
              "          const docLinkHtml = 'Like what you see? Visit the ' +\n",
              "            '<a target=\"_blank\" href=https://colab.research.google.com/notebooks/data_table.ipynb>data table notebook</a>'\n",
              "            + ' to learn more about interactive tables.';\n",
              "          element.innerHTML = '';\n",
              "          dataTable['output_type'] = 'display_data';\n",
              "          await google.colab.output.renderOutput(dataTable, element);\n",
              "          const docLink = document.createElement('div');\n",
              "          docLink.innerHTML = docLinkHtml;\n",
              "          element.appendChild(docLink);\n",
              "        }\n",
              "      </script>\n",
              "    </div>\n",
              "  </div>\n",
              "  "
            ]
          },
          "metadata": {},
          "execution_count": 40
        }
      ]
    },
    {
      "cell_type": "code",
      "source": [
        "# word frequencies calculation\n",
        "from collections import Counter\n",
        "# count unique words\n",
        "def counter_word(text_col):\n",
        "    count = Counter()\n",
        "    for text in text_col.values:\n",
        "        for word in text.split():\n",
        "            count[word] += 1\n",
        "    return count\n",
        "\n",
        "counter_all = counter_word(data.cleaned_tweet)\n",
        "words_all = counter_all.most_common(100)\n",
        "\n",
        "words_all= pd.DataFrame(words_all)\n",
        "words_all['word'] = words_all.iloc[0:, 0]\n",
        "words_all['count'] = words_all.iloc[0:, 1]\n",
        "words_all = words_all[['word','count']]\n",
        "words_all.to_csv('top100_words.csv', columns=['word','count'], index=False)"
      ],
      "metadata": {
        "id": "Li6QfRtGKSsX"
      },
      "execution_count": null,
      "outputs": []
    },
    {
      "cell_type": "code",
      "source": [
        "# restriction to 100 most frequent words\n",
        "top100_words = pd.read_csv('top100_words.csv')\n",
        "PCA_data_top_100 = PCA_data_complet.merge(top100_words, how='inner', left_on='word',right_on='word')\n",
        "PCA_data_top_100.to_csv('PCA_data_top_100.csv', index=False)"
      ],
      "metadata": {
        "id": "F9qim9_lKnTX"
      },
      "execution_count": null,
      "outputs": []
    },
    {
      "cell_type": "code",
      "source": [
        "from sklearn.cluster import KMeans"
      ],
      "metadata": {
        "id": "MAIwf6VnRpQO"
      },
      "execution_count": null,
      "outputs": []
    },
    {
      "cell_type": "code",
      "source": [],
      "metadata": {
        "id": "dqevPS-MauDu"
      },
      "execution_count": null,
      "outputs": []
    },
    {
      "cell_type": "code",
      "source": [
        "wcss = []\n",
        "for i in range(1,18):\n",
        "  kmeans_pca = KMeans(n_clusters = i, init = 'k-means++', random_state = 42)\n",
        "  kmeans_pca.fit(PCA_result_scores)\n",
        "  wcss.append(kmeans_pca.inertia_)\n"
      ],
      "metadata": {
        "id": "J-FxSVkbRJsw"
      },
      "execution_count": null,
      "outputs": []
    },
    {
      "cell_type": "code",
      "source": [
        "from matplotlib import pyplot as plt\n",
        "\n",
        "plt.figure(figsize = (10, 8))\n",
        "plt.plot(range(1, 18), wcss, marker = 'o', linestyle = '--')\n",
        "plt.xlabel(\"Number of Clusters\")\n",
        "plt.ylabel(\"wcss\")\n",
        "plt.title(\"K-means with PCA clustering\")\n",
        "plt.show()"
      ],
      "metadata": {
        "colab": {
          "base_uri": "https://localhost:8080/",
          "height": 513
        },
        "id": "ypn6r2otRJ2B",
        "outputId": "b52a716b-cbdf-45d6-b164-273bff792a9b"
      },
      "execution_count": null,
      "outputs": [
        {
          "output_type": "display_data",
          "data": {
            "text/plain": [
              "<Figure size 720x576 with 1 Axes>"
            ],
            "image/png": "[encoded data removed]"
          },
          "metadata": {
            "needs_background": "light"
          }
        }
      ]
    },
    {
      "cell_type": "code",
      "source": [
        "kmeans_pca = KMeans(n_clusters = 4, init = 'k-means++', random_state = 42)\n",
        "\n",
        "kmeans_pca.fit(PCA_result_scores)"
      ],
      "metadata": {
        "colab": {
          "base_uri": "https://localhost:8080/"
        },
        "id": "HQJWa-nbKnV8",
        "outputId": "40ac5516-3127-4802-8acb-1436f7e57bfa"
      },
      "execution_count": null,
      "outputs": [
        {
          "output_type": "execute_result",
          "data": {
            "text/plain": [
              "KMeans(n_clusters=4, random_state=42)"
            ]
          },
          "metadata": {},
          "execution_count": 44
        }
      ]
    },
    {
      "cell_type": "code",
      "source": [
        "PCA_result_scores"
      ],
      "metadata": {
        "colab": {
          "base_uri": "https://localhost:8080/"
        },
        "id": "yoHABCVBTjI9",
        "outputId": "42945f6a-51aa-45cd-f7e1-b7120f9f62e3"
      },
      "execution_count": null,
      "outputs": [
        {
          "output_type": "execute_result",
          "data": {
            "text/plain": [
              "array([[ 5.3810992e+00, -1.9941118e-02],\n",
              "       [ 6.4751158e+00, -9.9140545e-03],\n",
              "       [ 7.0124011e+00, -2.1929262e-02],\n",
              "       ...,\n",
              "       [-1.6431674e-01,  4.5224801e-03],\n",
              "       [-2.0884460e-01,  1.8075230e-03],\n",
              "       [-2.0619029e-01,  1.1068099e-03]], dtype=float32)"
            ]
          },
          "metadata": {},
          "execution_count": 45
        }
      ]
    },
    {
      "cell_type": "code",
      "source": [
        "kmeans_pca.fit(PCA_result_scores)"
      ],
      "metadata": {
        "colab": {
          "base_uri": "https://localhost:8080/"
        },
        "id": "umW49UGITiKs",
        "outputId": "6bb0d024-991f-45ac-9267-412070ecddda"
      },
      "execution_count": null,
      "outputs": [
        {
          "output_type": "execute_result",
          "data": {
            "text/plain": [
              "KMeans(n_clusters=4, random_state=42)"
            ]
          },
          "metadata": {},
          "execution_count": 46
        }
      ]
    },
    {
      "cell_type": "code",
      "source": [
        "kmeans_pca.labels_ "
      ],
      "metadata": {
        "colab": {
          "base_uri": "https://localhost:8080/"
        },
        "id": "SGPJfjtlW7vK",
        "outputId": "8cf9a465-7099-4b83-b3fd-9b2c265bed6e"
      },
      "execution_count": null,
      "outputs": [
        {
          "output_type": "execute_result",
          "data": {
            "text/plain": [
              "array([1, 1, 1, ..., 0, 0, 0], dtype=int32)"
            ]
          },
          "metadata": {},
          "execution_count": 47
        }
      ]
    },
    {
      "cell_type": "code",
      "source": [
        "df_segm = data"
      ],
      "metadata": {
        "id": "39Mu8vA5XDZI"
      },
      "execution_count": null,
      "outputs": []
    },
    {
      "cell_type": "code",
      "source": [
        "df_segm = pd.concat([data.reset_index(drop = True), pd.DataFrame(PCA_result_scores)], axis = 1)\n",
        "df_segm.columns.values[-2: ] = ['Component 1', 'Component 2']\n",
        "\n",
        "df_segm['Segment K-means PCA'] = kmeans_pca.labels_ "
      ],
      "metadata": {
        "id": "mwxrcoaRV9ps"
      },
      "execution_count": null,
      "outputs": []
    },
    {
      "cell_type": "code",
      "source": [
        "df_segm['Segment'] = df_segm['Segment K-means PCA'].map({0:'first', 1:'second', 2:'third', 3:'fourth'})\n",
        "\n"
      ],
      "metadata": {
        "id": "c9vDOldqZQhz"
      },
      "execution_count": null,
      "outputs": []
    },
    {
      "cell_type": "markdown",
      "source": [
        "# Resources \n",
        "# https://365datascience.com/tutorials/python-tutorials/pca-k-means/\n",
        "# https://github.com/PetrKorab/Clustering-Textual-Data-with-Word2Vec/blob/main/word2vec_medium_article.ipynb"
      ],
      "metadata": {
        "id": "g3I8G-_OdbeC"
      }
    },
    {
      "cell_type": "code",
      "source": [
        "sns.set_style('ticks')\n",
        "\n",
        "fig = sns.lmplot(x='Component 2', y='Component 1',\n",
        "\n",
        "data = df_segm,\n",
        "\n",
        "fit_reg=False,\n",
        "\n",
        "legend=True,\n",
        "\n",
        "hue='Segment')\n",
        "\n",
        "fig = plt.gcf()\n",
        "\n",
        "fig.set_size_inches(8, 6)\n",
        "\n",
        "plt.savefig('word2vec_clustering.png')\n",
        "\n",
        "plt.show()\n",
        "\n",
        "plt.show()"
      ],
      "metadata": {
        "colab": {
          "base_uri": "https://localhost:8080/",
          "height": 431
        },
        "id": "yJfZ5HcE6ygz",
        "outputId": "934b2a0d-a146-4f23-deaa-a96a659eda0c"
      },
      "execution_count": null,
      "outputs": [
        {
          "output_type": "display_data",
          "data": {
            "text/plain": [
              "<Figure size 576x432 with 1 Axes>"
            ],
            "image/png": "[encoded data removed]"
          },
          "metadata": {}
        }
      ]
    },
    {
      "cell_type": "code",
      "source": [],
      "metadata": {
        "id": "LNYi7LvK6ylV"
      },
      "execution_count": null,
      "outputs": []
    }
  ]
}